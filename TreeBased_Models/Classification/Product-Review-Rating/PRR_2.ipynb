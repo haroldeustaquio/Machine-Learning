{
 "cells": [
  {
   "cell_type": "markdown",
   "metadata": {},
   "source": [
    "#### 1. Importing the libraries"
   ]
  },
  {
   "cell_type": "code",
   "execution_count": 3,
   "metadata": {},
   "outputs": [],
   "source": [
    "from sklearn.feature_extraction.text import CountVectorizer, HashingVectorizer, TfidfTransformer, TfidfVectorizer\n",
    "from sklearn.tree import DecisionTreeClassifier, plot_tree\n",
    "from sklearn.model_selection import train_test_split\n",
    "from sklearn.metrics import f1_score, recall_score, accuracy_score, precision_score,confusion_matrix\n",
    "import pandas as pd\n",
    "import numpy as np"
   ]
  },
  {
   "cell_type": "markdown",
   "metadata": {},
   "source": [
    "#### 2. Load [data](https://www.kaggle.com/datasets/arhamrumi/amazon-product-reviews/code) from kaggle"
   ]
  },
  {
   "cell_type": "code",
   "execution_count": 4,
   "metadata": {},
   "outputs": [],
   "source": [
    "data = pd.read_csv('Reviews.csv')[:2000]"
   ]
  },
  {
   "cell_type": "code",
   "execution_count": 24,
   "metadata": {},
   "outputs": [],
   "source": [
    "# Selecting an specific data\n",
    "data_sa_text = data.loc[:,['Text', 'Score']]\n",
    "\n",
    "# Spliting data\n",
    "\n",
    "x_train, x_test, y_train, y_test = train_test_split(data_sa_text['Text'],data_sa_text['Score'], test_size=0.2)"
   ]
  },
  {
   "cell_type": "code",
   "execution_count": 41,
   "metadata": {},
   "outputs": [],
   "source": [
    "vectorizer = TfidfVectorizer(stop_words='english',ngram_range=(1,2),strip_accents='ascii')"
   ]
  },
  {
   "cell_type": "code",
   "execution_count": 49,
   "metadata": {},
   "outputs": [],
   "source": [
    "x_train_vect = vectorizer.fit_transform(x_train)"
   ]
  },
  {
   "cell_type": "code",
   "execution_count": 50,
   "metadata": {},
   "outputs": [],
   "source": [
    "x_test_vect = vectorizer.transform(x_test)"
   ]
  },
  {
   "cell_type": "code",
   "execution_count": 89,
   "metadata": {},
   "outputs": [
    {
     "name": "stdout",
     "output_type": "stream",
     "text": [
      "popchips: 0.2765\n",
      "chips popchips: 0.2490\n",
      "delicious way: 0.2490\n",
      "flavors delicious: 0.2490\n",
      "half fat: 0.2490\n",
      "regular greasy: 0.2490\n",
      "way healthier: 0.2490\n",
      "def: 0.2265\n",
      "sooo: 0.2265\n",
      "good flavors: 0.2193\n",
      "bag: 0.2078\n",
      "bag regular: 0.1775\n",
      "chips got: 0.1775\n",
      "got new: 0.1775\n",
      "hunger: 0.1775\n",
      "ordered chips: 0.1775\n",
      "pricier: 0.1775\n",
      "salty goodness: 0.1775\n",
      "stops: 0.1775\n",
      "tasty satisfying: 0.1775\n",
      "intake: 0.2999\n",
      "sugar: 0.2944\n",
      "free: 0.1995\n",
      "great eat: 0.1982\n",
      "ll eat: 0.1878\n",
      "unnecessary: 0.1878\n",
      "sweets: 0.1804\n",
      "diabetic: 0.1746\n",
      "sugary: 0.1746\n",
      "sweet tooth: 0.1746\n",
      "shortbread: 0.5862\n",
      "walkers: 0.2931\n",
      "b001gcvlxg: 0.1547\n",
      "b001gcvlxg walkers: 0.1547\n",
      "highlander: 0.1547\n",
      "highlander shortbread: 0.1547\n",
      "makes best: 0.1547\n",
      "ounce units: 0.1547\n",
      "pack ounce: 0.1547\n",
      "product b001gcvlxg: 0.1547\n",
      "gift: 0.4277\n",
      "absolutely loved: 0.3367\n",
      "gift absolutely: 0.3367\n",
      "girlfriend: 0.3189\n",
      "great gift: 0.3063\n",
      "surprise: 0.2514\n",
      "expected: 0.2429\n",
      "absolutely: 0.2113\n",
      "treat: 0.2044\n",
      "gave: 0.2003\n"
     ]
    }
   ],
   "source": [
    "features = vectorizer.get_feature_names_out()\n",
    "\n",
    "for i,document in enumerate(x_test_vect[:5]):\n",
    "    tfidf_scores = zip(features,x_test_vect[i].toarray().flatten())\n",
    "    \n",
    "    top_words = sorted(tfidf_scores,key=lambda x: x[1],reverse=True)[:10]\n",
    "    \n",
    "    for word, score in top_words:\n",
    "        print(f\"{word}: {score:.4f}\")\n"
   ]
  },
  {
   "cell_type": "markdown",
   "metadata": {},
   "source": [
    "## Investigar from sklearn.feature_selection import SelectKBest, chi2\n",
    "\n",
    " Seleccionar las mejores K características\n",
    "selector = SelectKBest(chi2, k=100)  \n",
    "\n",
    "### Aquí seleccionas las 100 palabras más relevantes\n",
    "X_new = selector.fit_transform(tfidf_matrix, y)  # 'y' es tu variable objetivo (labels)\n"
   ]
  }
 ],
 "metadata": {
  "kernelspec": {
   "display_name": "Training",
   "language": "python",
   "name": "python3"
  },
  "language_info": {
   "codemirror_mode": {
    "name": "ipython",
    "version": 3
   },
   "file_extension": ".py",
   "mimetype": "text/x-python",
   "name": "python",
   "nbconvert_exporter": "python",
   "pygments_lexer": "ipython3",
   "version": "3.11.9"
  }
 },
 "nbformat": 4,
 "nbformat_minor": 2
}
