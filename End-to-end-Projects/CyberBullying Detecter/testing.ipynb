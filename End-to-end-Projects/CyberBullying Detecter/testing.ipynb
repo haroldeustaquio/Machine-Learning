{
 "cells": [
  {
   "cell_type": "markdown",
   "metadata": {},
   "source": [
    "## 1. Importing Libraries\n"
   ]
  },
  {
   "cell_type": "code",
   "execution_count": 6,
   "metadata": {},
   "outputs": [],
   "source": [
    "import pandas as pd \n",
    "import tensorflow as tf\n",
    "\n",
    "from keras.layers import TextVectorization\n",
    "import time\n",
    "from sklearn.preprocessing import LabelEncoder\n",
    "import keras\n",
    "import re\n",
    "from wordcloud import STOPWORDS\n",
    "import matplotlib.pyplot as plt\n",
    "import numpy as np\n",
    "from sklearn.metrics import confusion_matrix, ConfusionMatrixDisplay, classification_report, accuracy_score\n",
    "from tensorflow.keras.models import load_model"
   ]
  },
  {
   "cell_type": "markdown",
   "metadata": {},
   "source": [
    "## 2. Loading and Exploring the Data"
   ]
  },
  {
   "cell_type": "code",
   "execution_count": 7,
   "metadata": {},
   "outputs": [],
   "source": [
    "test = pd.read_csv('data/cyberbullying_test.csv')\n",
    "train = pd.read_csv('data/cyberbullying_train.csv')\n",
    "val = pd.read_csv('data/cyberbullying_val.csv')"
   ]
  },
  {
   "cell_type": "code",
   "execution_count": 8,
   "metadata": {},
   "outputs": [],
   "source": [
    "test['target'] = 'test'\n",
    "train['target'] = 'train'\n",
    "val['target'] = 'val'"
   ]
  },
  {
   "cell_type": "code",
   "execution_count": 9,
   "metadata": {},
   "outputs": [],
   "source": [
    "df = pd.concat([test,train,val],axis=0).reset_index(drop=True)"
   ]
  },
  {
   "cell_type": "markdown",
   "metadata": {},
   "source": [
    "## 3. Data Cleaning and Preparation"
   ]
  },
  {
   "cell_type": "code",
   "execution_count": 10,
   "metadata": {},
   "outputs": [],
   "source": [
    "TEXT_CLEANING_RE = \"@\\S+|https?:\\S+|http?:\\S|[^A-Za-z0-9]+\"\n",
    "STOPWORDS.update(['rt', 'mkr', 'didn', 'bc', 'n', 'm', 'im', 'll', 'y', 've', 'u', 'ur', 'don', 't', 's','cuz'])\n",
    "\n",
    "def lower(text):\n",
    "    return text.lower()\n",
    "\n",
    "def remove_twitter(text):\n",
    "    return re.sub(TEXT_CLEANING_RE, ' ', text)\n",
    "\n",
    "def remove_stopwords(text):\n",
    "    return \" \".join([word for word in str(text).split() if word not in STOPWORDS])\n",
    "\n",
    "def clean_text(text):\n",
    "    text = lower(text)\n",
    "    text = remove_twitter(text)\n",
    "    text = remove_stopwords(text)\n",
    "    text = text.strip()\n",
    "    return text"
   ]
  },
  {
   "cell_type": "code",
   "execution_count": 11,
   "metadata": {},
   "outputs": [],
   "source": [
    "df['tweet_text']=df['tweet_text'].apply(clean_text)\n",
    "\n",
    "df = df[df['tweet_text'] != '']"
   ]
  },
  {
   "cell_type": "code",
   "execution_count": 12,
   "metadata": {},
   "outputs": [],
   "source": [
    "lblencoder = LabelEncoder()\n",
    "df['cyberbullying_type'] = lblencoder.fit_transform(df['cyberbullying_type'])"
   ]
  },
  {
   "cell_type": "markdown",
   "metadata": {},
   "source": [
    "## 4. Scaling or Normalizing Data\n"
   ]
  },
  {
   "cell_type": "code",
   "execution_count": 13,
   "metadata": {},
   "outputs": [],
   "source": [
    "total_text = df['tweet_text'].values\n",
    "target = df['cyberbullying_type'].values"
   ]
  },
  {
   "cell_type": "code",
   "execution_count": 14,
   "metadata": {},
   "outputs": [],
   "source": [
    "train = df[df['target'] == 'train'].drop(columns='target').reset_index(drop=True)\n",
    "test = df[df['target'] == 'test'].drop(columns='target').reset_index(drop=True)\n",
    "val = df[df['target'] == 'val'].drop(columns='target').reset_index(drop=True)"
   ]
  },
  {
   "cell_type": "code",
   "execution_count": 15,
   "metadata": {},
   "outputs": [],
   "source": [
    "x_train = train['tweet_text'].values\n",
    "y_train = train['cyberbullying_type'].values\n",
    "\n",
    "x_test = test['tweet_text'].values\n",
    "y_test = test['cyberbullying_type'].values\n",
    "\n",
    "x_val = val['tweet_text'].values\n",
    "y_val = val['cyberbullying_type'].values"
   ]
  },
  {
   "cell_type": "code",
   "execution_count": 16,
   "metadata": {},
   "outputs": [],
   "source": [
    "# Crear datasets de TensorFlow\n",
    "raw_train_ds = tf.data.Dataset.from_tensor_slices((x_train, y_train))\n",
    "raw_test_ds = tf.data.Dataset.from_tensor_slices((x_test, y_test))\n",
    "raw_val_ds = tf.data.Dataset.from_tensor_slices((x_val, y_val))"
   ]
  },
  {
   "cell_type": "code",
   "execution_count": 17,
   "metadata": {},
   "outputs": [
    {
     "name": "stdout",
     "output_type": "stream",
     "text": [
      "Time for adapt is 374.4449\n"
     ]
    }
   ],
   "source": [
    "vocab_size = 20000\n",
    "\n",
    "vectorize_layer = TextVectorization(\n",
    "    standardize=None,\n",
    "    max_tokens=vocab_size,\n",
    "    output_mode='tf-idf'\n",
    ")\n",
    "\n",
    "# Obtener el texto sin etiquetas\n",
    "text_ds = raw_train_ds.map(lambda x, y: x) ########\n",
    "\n",
    "start = time.time()\n",
    "vectorize_layer.adapt(text_ds)\n",
    "print(f'Time for adapt is {time.time()-start:.4f}')"
   ]
  },
  {
   "cell_type": "code",
   "execution_count": 18,
   "metadata": {},
   "outputs": [],
   "source": [
    "batch_size = 32\n",
    "raw_train_ds = raw_train_ds.shuffle(20000).batch(batch_size)\n",
    "raw_val_ds = raw_val_ds.batch(batch_size)\n",
    "raw_test_ds = raw_test_ds.batch(batch_size)"
   ]
  },
  {
   "cell_type": "code",
   "execution_count": 19,
   "metadata": {},
   "outputs": [],
   "source": [
    "def preprocess(x,y):\n",
    "    x = vectorize_layer(x)\n",
    "    y = tf.one_hot(y, depth=6)\n",
    "    return x,y\n",
    "\n",
    "train_ds = raw_train_ds.map(lambda x,y: preprocess(x,y))\n",
    "test_ds = raw_test_ds.map(lambda x,y: preprocess(x,y))\n",
    "val_ds = raw_val_ds.map(lambda x,y: preprocess(x,y))"
   ]
  },
  {
   "cell_type": "markdown",
   "metadata": {},
   "source": [
    "## 5. Model Building and Training\n"
   ]
  },
  {
   "cell_type": "code",
   "execution_count": 20,
   "metadata": {},
   "outputs": [],
   "source": [
    "@keras.saving.register_keras_serializable()\n",
    "class Linear(keras.layers.Layer):\n",
    "    def __init__(self, num_outputs, activation=None):\n",
    "        super().__init__()\n",
    "        self.num_outputs = num_outputs\n",
    "        self.activation = keras.activations.get(activation)\n",
    "        self.batch_norm = keras.layers.BatchNormalization()\n",
    "\n",
    "\n",
    "    def build(self, input_shape):\n",
    "        input_dim = input_shape[-1]\n",
    "        self.w = self.add_weight(\n",
    "            shape=[input_dim, self.num_outputs], \n",
    "            name=\"kernel\", \n",
    "            regularizer=keras.regularizers.l2(0.001)\n",
    "        )\n",
    "        self.b = self.add_weight(shape=[self.num_outputs], name=\"bias\")\n",
    "\n",
    "\n",
    "    def call(self, inputs, training=False):\n",
    "        x = tf.matmul(inputs, self.w) + self.b\n",
    "        x = self.batch_norm(x, training=training)\n",
    "        return self.activation(x)\n",
    "    \n",
    "    def get_config(self):\n",
    "        config = super().get_config()\n",
    "        config.update({\n",
    "            \"num_outputs\": self.num_outputs,\n",
    "            \"activation\": keras.activations.serialize(self.activation)\n",
    "        })\n",
    "        return config\n",
    "\n",
    "    @classmethod\n",
    "    def from_config(cls, config):\n",
    "        return cls(**config)"
   ]
  },
  {
   "cell_type": "code",
   "execution_count": 21,
   "metadata": {},
   "outputs": [],
   "source": [
    "@keras.saving.register_keras_serializable()\n",
    "class Model(keras.Model):\n",
    "    def __init__(self, activation, dropout_rate=0.3, **kwargs): ##################\n",
    "        super().__init__(**kwargs)\n",
    "        self.l1 = Linear(64, activation) \n",
    "        self.batch_norm1 = keras.layers.BatchNormalization()  \n",
    "        self.dropout1 = keras.layers.Dropout(dropout_rate)  \n",
    "        self.l2 = Linear(6, activation='softmax') \n",
    "\n",
    "    def call(self, x, training=False):\n",
    "        x = self.l1(x)\n",
    "        x = self.batch_norm1(x, training=training) \n",
    "        x = self.dropout1(x, training=training) \n",
    "        return self.l2(x)\n",
    "\n",
    "    def get_config(self):\n",
    "        config = super().get_config()\n",
    "        config.update({\n",
    "            \"activation\": keras.activations.serialize(self.l1.activation),\n",
    "            \"dropout_rate\": self.dropout1.rate\n",
    "        })\n",
    "        return config\n",
    "\n",
    "    @classmethod\n",
    "    def from_config(cls, config):\n",
    "        return cls(**config)\n"
   ]
  },
  {
   "cell_type": "markdown",
   "metadata": {},
   "source": [
    "### relu"
   ]
  },
  {
   "cell_type": "code",
   "execution_count": 22,
   "metadata": {},
   "outputs": [],
   "source": [
    "model = Model('relu')"
   ]
  },
  {
   "cell_type": "code",
   "execution_count": 23,
   "metadata": {},
   "outputs": [
    {
     "name": "stdout",
     "output_type": "stream",
     "text": [
      "Epoch 1/10\n",
      "\u001b[1m1037/1037\u001b[0m \u001b[32m━━━━━━━━━━━━━━━━━━━━\u001b[0m\u001b[37m\u001b[0m \u001b[1m0s\u001b[0m 37ms/step - accuracy: 0.7330 - loss: 0.9392\n",
      "Epoch 1: val_loss improved from inf to 0.66672, saving model to best_model.weights.h5\n",
      "\u001b[1m1037/1037\u001b[0m \u001b[32m━━━━━━━━━━━━━━━━━━━━\u001b[0m\u001b[37m\u001b[0m \u001b[1m48s\u001b[0m 43ms/step - accuracy: 0.7331 - loss: 0.9390 - val_accuracy: 0.8314 - val_loss: 0.6667\n",
      "Epoch 2/10\n",
      "\u001b[1m1037/1037\u001b[0m \u001b[32m━━━━━━━━━━━━━━━━━━━━\u001b[0m\u001b[37m\u001b[0m \u001b[1m0s\u001b[0m 36ms/step - accuracy: 0.8675 - loss: 0.6073\n",
      "Epoch 2: val_loss improved from 0.66672 to 0.63583, saving model to best_model.weights.h5\n",
      "\u001b[1m1037/1037\u001b[0m \u001b[32m━━━━━━━━━━━━━━━━━━━━\u001b[0m\u001b[37m\u001b[0m \u001b[1m43s\u001b[0m 41ms/step - accuracy: 0.8675 - loss: 0.6073 - val_accuracy: 0.8321 - val_loss: 0.6358\n",
      "Epoch 3/10\n",
      "\u001b[1m1036/1037\u001b[0m \u001b[32m━━━━━━━━━━━━━━━━━━━\u001b[0m\u001b[37m━\u001b[0m \u001b[1m0s\u001b[0m 37ms/step - accuracy: 0.8783 - loss: 0.5624\n",
      "Epoch 3: val_loss did not improve from 0.63583\n",
      "\u001b[1m1037/1037\u001b[0m \u001b[32m━━━━━━━━━━━━━━━━━━━━\u001b[0m\u001b[37m\u001b[0m \u001b[1m43s\u001b[0m 42ms/step - accuracy: 0.8783 - loss: 0.5624 - val_accuracy: 0.8304 - val_loss: 0.6480\n",
      "Epoch 4/10\n",
      "\u001b[1m1037/1037\u001b[0m \u001b[32m━━━━━━━━━━━━━━━━━━━━\u001b[0m\u001b[37m\u001b[0m \u001b[1m0s\u001b[0m 39ms/step - accuracy: 0.8799 - loss: 0.5564\n",
      "Epoch 4: val_loss did not improve from 0.63583\n",
      "\u001b[1m1037/1037\u001b[0m \u001b[32m━━━━━━━━━━━━━━━━━━━━\u001b[0m\u001b[37m\u001b[0m \u001b[1m45s\u001b[0m 44ms/step - accuracy: 0.8799 - loss: 0.5565 - val_accuracy: 0.8317 - val_loss: 0.6696\n",
      "Epoch 5/10\n",
      "\u001b[1m1037/1037\u001b[0m \u001b[32m━━━━━━━━━━━━━━━━━━━━\u001b[0m\u001b[37m\u001b[0m \u001b[1m0s\u001b[0m 38ms/step - accuracy: 0.8801 - loss: 0.5724\n",
      "Epoch 5: val_loss did not improve from 0.63583\n",
      "\u001b[1m1037/1037\u001b[0m \u001b[32m━━━━━━━━━━━━━━━━━━━━\u001b[0m\u001b[37m\u001b[0m \u001b[1m44s\u001b[0m 42ms/step - accuracy: 0.8801 - loss: 0.5724 - val_accuracy: 0.8314 - val_loss: 0.6793\n",
      "Epoch 6/10\n",
      "\u001b[1m1037/1037\u001b[0m \u001b[32m━━━━━━━━━━━━━━━━━━━━\u001b[0m\u001b[37m\u001b[0m \u001b[1m0s\u001b[0m 36ms/step - accuracy: 0.8871 - loss: 0.5668\n",
      "Epoch 6: val_loss did not improve from 0.63583\n",
      "\u001b[1m1037/1037\u001b[0m \u001b[32m━━━━━━━━━━━━━━━━━━━━\u001b[0m\u001b[37m\u001b[0m \u001b[1m43s\u001b[0m 41ms/step - accuracy: 0.8871 - loss: 0.5668 - val_accuracy: 0.8304 - val_loss: 0.6967\n",
      "Epoch 7/10\n",
      "\u001b[1m1036/1037\u001b[0m \u001b[32m━━━━━━━━━━━━━━━━━━━\u001b[0m\u001b[37m━\u001b[0m \u001b[1m0s\u001b[0m 37ms/step - accuracy: 0.8833 - loss: 0.5813\n",
      "Epoch 7: val_loss did not improve from 0.63583\n",
      "\u001b[1m1037/1037\u001b[0m \u001b[32m━━━━━━━━━━━━━━━━━━━━\u001b[0m\u001b[37m\u001b[0m \u001b[1m43s\u001b[0m 41ms/step - accuracy: 0.8832 - loss: 0.5813 - val_accuracy: 0.8245 - val_loss: 0.6907\n"
     ]
    }
   ],
   "source": [
    "model.compile(\n",
    "    loss=keras.losses.CategoricalCrossentropy(),\n",
    "    optimizer=keras.optimizers.Adam(learning_rate=0.001), \n",
    "    metrics=[\"accuracy\"]\n",
    ")\n",
    "\n",
    "early_stopping = keras.callbacks.EarlyStopping(\n",
    "    monitor=\"val_loss\", \n",
    "    patience=5, \n",
    "    restore_best_weights=True\n",
    ")\n",
    "\n",
    "checkpoint_callback = keras.callbacks.ModelCheckpoint(\n",
    "    filepath=\"best_model.weights.h5\",\n",
    "    save_weights_only=True,\n",
    "    save_best_only=True, \n",
    "    monitor=\"val_loss\", \n",
    "    mode=\"min\",          \n",
    "    verbose=1\n",
    ")\n",
    "\n",
    "# Entrenar el modelo\n",
    "history = model.fit(\n",
    "    train_ds,\n",
    "    validation_data=val_ds,\n",
    "    epochs=10,\n",
    "    callbacks=[early_stopping, checkpoint_callback],\n",
    ")"
   ]
  },
  {
   "cell_type": "code",
   "execution_count": 24,
   "metadata": {},
   "outputs": [],
   "source": [
    "# Guardar el modelo completo en un archivo\n",
    "model.save(\"model.keras\")\n",
    "model.save_weights(\"best_model.weights.h5\") "
   ]
  },
  {
   "cell_type": "code",
   "execution_count": 25,
   "metadata": {},
   "outputs": [
    {
     "data": {
      "image/png": "[encoded data removed]",
      "text/plain": [
       "<Figure size 1000x500 with 2 Axes>"
      ]
     },
     "metadata": {},
     "output_type": "display_data"
    }
   ],
   "source": [
    "# Crear figura con dos subplots\n",
    "fig, (ax1, ax2) = plt.subplots(1, 2, figsize=(10, 5))\n",
    "\n",
    "# Plot de accuracy en el primer subplot\n",
    "ax1.plot(history.history['accuracy'], 'bo-', label='Accuracy')\n",
    "ax1.plot(history.history['val_accuracy'], 'ro-', label='Validation Accuracy')\n",
    "ax1.set_title('Accuracy')\n",
    "ax1.set_xlabel('Época')\n",
    "ax1.set_ylabel('Accuracy')\n",
    "ax1.legend()\n",
    "\n",
    "# Plot de error en el segundo subplot\n",
    "ax2.plot(history.history['loss'], 'bo-', label='Loss')\n",
    "ax2.plot(history.history['val_loss'], 'ro-', label='Validation Loss')\n",
    "ax2.set_title('Error')\n",
    "ax2.set_xlabel('Época')\n",
    "ax2.set_ylabel('Error')\n",
    "ax2.legend()\n",
    "\n",
    "# Mostrar figura\n",
    "plt.show()"
   ]
  },
  {
   "cell_type": "markdown",
   "metadata": {},
   "source": [
    "## 6. Model Evaluation"
   ]
  },
  {
   "cell_type": "code",
   "execution_count": 26,
   "metadata": {},
   "outputs": [
    {
     "name": "stdout",
     "output_type": "stream",
     "text": [
      "WARNING:tensorflow:From g:\\Machine-Learning\\.venv\\Lib\\site-packages\\keras\\src\\backend\\tensorflow\\core.py:204: The name tf.placeholder is deprecated. Please use tf.compat.v1.placeholder instead.\n",
      "\n",
      "\u001b[1m223/223\u001b[0m \u001b[32m━━━━━━━━━━━━━━━━━━━━\u001b[0m\u001b[37m\u001b[0m \u001b[1m6s\u001b[0m 22ms/step - accuracy: 0.8283 - loss: 0.6515\n",
      "Loss en test: 0.6483999490737915, Accuracy en test: 0.8305203914642334\n"
     ]
    }
   ],
   "source": [
    "loaded_model = Model(activation='relu') \n",
    "loaded_model = load_model(\"model.keras\") \n",
    "\n",
    "loaded_model.compile(\n",
    "    loss=keras.losses.CategoricalCrossentropy(),\n",
    "    optimizer=keras.optimizers.Adam(learning_rate=0.01),\n",
    "    metrics=[\"accuracy\"]\n",
    ")\n",
    "\n",
    "test_loss, test_accuracy = loaded_model.evaluate(test_ds)\n",
    "print(f\"Loss en test: {test_loss}, Accuracy en test: {test_accuracy}\")"
   ]
  },
  {
   "cell_type": "code",
   "execution_count": 27,
   "metadata": {},
   "outputs": [
    {
     "name": "stdout",
     "output_type": "stream",
     "text": [
      "\u001b[1m223/223\u001b[0m \u001b[32m━━━━━━━━━━━━━━━━━━━━\u001b[0m\u001b[37m\u001b[0m \u001b[1m5s\u001b[0m 21ms/step\n"
     ]
    }
   ],
   "source": [
    "# Obtener las predicciones\n",
    "predictions = loaded_model.predict(test_ds)\n",
    "\n",
    "predicted_classes = np.argmax(predictions, axis=1)\n",
    "true_classes = np.concatenate([np.argmax(y, axis=1) for _, y in test_ds], axis=0)"
   ]
  },
  {
   "cell_type": "markdown",
   "metadata": {},
   "source": [
    "### Matriz de Confusión"
   ]
  },
  {
   "cell_type": "code",
   "execution_count": 35,
   "metadata": {},
   "outputs": [
    {
     "data": {
      "image/png": "[encoded data removed]",
      "text/plain": [
       "<Figure size 640x480 with 2 Axes>"
      ]
     },
     "metadata": {},
     "output_type": "display_data"
    }
   ],
   "source": [
    "cm = confusion_matrix(true_classes, predicted_classes)\n",
    "\n",
    "# Definir las etiquetas personalizadas\n",
    "labels = lblencoder.classes_\n",
    "\n",
    "disp = ConfusionMatrixDisplay(confusion_matrix=cm,display_labels=labels)\n",
    "disp.plot(cmap=plt.cm.Blues)\n",
    "plt.title(\"Confusion Matrix\")\n",
    "plt.xticks(rotation=45)\n",
    "plt.show()"
   ]
  },
  {
   "cell_type": "markdown",
   "metadata": {},
   "source": [
    "### Clasiffication Report"
   ]
  },
  {
   "cell_type": "code",
   "execution_count": 31,
   "metadata": {},
   "outputs": [
    {
     "name": "stdout",
     "output_type": "stream",
     "text": [
      "              precision    recall  f1-score   support\n",
      "\n",
      "           0       0.96      0.99      0.97      1221\n",
      "           1       0.98      0.98      0.98      1196\n",
      "           2       0.89      0.84      0.86      1138\n",
      "           3       0.59      0.54      0.57      1173\n",
      "           4       0.62      0.67      0.64      1191\n",
      "           5       0.94      0.95      0.95      1191\n",
      "\n",
      "    accuracy                           0.83      7110\n",
      "   macro avg       0.83      0.83      0.83      7110\n",
      "weighted avg       0.83      0.83      0.83      7110\n",
      "\n"
     ]
    }
   ],
   "source": [
    "print(classification_report(true_classes, predicted_classes))"
   ]
  },
  {
   "cell_type": "code",
   "execution_count": 30,
   "metadata": {},
   "outputs": [
    {
     "data": {
      "text/plain": [
       "0.8305203938115331"
      ]
     },
     "execution_count": 30,
     "metadata": {},
     "output_type": "execute_result"
    }
   ],
   "source": [
    "accuracy_score(test['cyberbullying_type'],predicted_classes)"
   ]
  },
  {
   "cell_type": "markdown",
   "metadata": {},
   "source": [
    "## Step by Step"
   ]
  },
  {
   "cell_type": "markdown",
   "metadata": {},
   "source": [
    "### Loading and exploring data"
   ]
  },
  {
   "cell_type": "markdown",
   "metadata": {},
   "source": [
    "\n",
    "\n",
    "* Cargar datos: Se importan los conjuntos de datos desde archivos CSV: test, train y val.\n",
    "* Etiquetar conjuntos: Se añade una columna target para identificar cada conjunto: 'test', 'train' y 'val'.\n",
    "* Concatenar DataFrames: Se combinan todos los DataFrames en uno solo (df), restableciendo el índice.\n"
   ]
  },
  {
   "cell_type": "markdown",
   "metadata": {},
   "source": [
    "### Data Cleaning and Preparation"
   ]
  },
  {
   "cell_type": "markdown",
   "metadata": {},
   "source": [
    "Definir expresiones y listas:\n",
    "1. Se establece una expresión regular (TEXT_CLEANING_RE) para limpiar textos de Twitter, eliminando menciones, enlaces y caracteres no alfanuméricos.\n",
    "2. Se actualizan las palabras vacías (stopwords) con términos específicos relacionados con Twitter.\n",
    "\n",
    "Funciones de limpieza de texto:\n",
    "\n",
    "3. lower(text): Convierte el texto a minúsculas.\n",
    "4. remove_twitter(text): Aplica la expresión regular para eliminar menciones y enlaces.\n",
    "5. remove_stopwords(text): Elimina las palabras vacías definidas de cada texto.\n",
    "6. clean_text(text): Combina las funciones anteriores y limpia el texto, eliminando espacios al inicio y al final.\n",
    "\n",
    "Aplicar limpieza:\n",
    "\n",
    "7. Se aplica la función clean_text a la columna tweet_text del DataFrame df.\n",
    "\n",
    "Filtrar textos vacíos:\n",
    "\n",
    "8. Se eliminan las filas donde tweet_text está vacío.\n",
    "\n",
    "Codificación de etiquetas:\n",
    "\n",
    "9. Se utiliza LabelEncoder para transformar la columna cyberbullying_type en números, facilitando el uso en modelos de machine learning."
   ]
  },
  {
   "cell_type": "markdown",
   "metadata": {},
   "source": [
    "### Scaling or Normalization Data"
   ]
  },
  {
   "cell_type": "markdown",
   "metadata": {},
   "source": [
    "Definir variables:\n",
    "\n",
    "1. total_text: Se extraen todos los textos de tweet_text.\n",
    "2. target: Se extraen las etiquetas de cyberbullying_type.\n",
    "\n",
    "Crear conjuntos de entrenamiento, prueba y validación:\n",
    "\n",
    "3. Se filtran los datos según el valor de la columna target (train, test, val).\n",
    "4. Se eliminan las columnas innecesarias y se restablece el índice.\n",
    "\n",
    "Separar características y etiquetas:\n",
    "\n",
    "5. Se obtienen los textos y etiquetas para los conjuntos de entrenamiento, prueba y validación.\n",
    "\n",
    "Crear datasets de TensorFlow:\n",
    "\n",
    "6. Se crean datasets utilizando tf.data.Dataset.from_tensor_slices para los conjuntos total, de entrenamiento, prueba y validación.\n",
    "\n",
    "Definir y adaptar la capa de vectorización:\n",
    "\n",
    "7. Se define una capa TextVectorization para convertir texto en vectores, especificando un tamaño de vocabulario (vocab_size).\n",
    "8. Se adapta la capa de vectorización al conjunto de textos del entrenamiento.\n",
    "\n",
    "Preparar los datasets para el entrenamiento:\n",
    "\n",
    "9. Se barajan y agrupan los datasets de entrenamiento, validación y prueba en lotes de tamaño 32.\n",
    "\n",
    "Preprocesar los datos:\n",
    "\n",
    "10. Se define la función preprocess para vectorizar el texto y aplicar codificación one-hot a las etiquetas.\n",
    "11. Se aplican transformaciones de preprocesamiento a los datasets de entrenamiento, validación y prueba."
   ]
  },
  {
   "cell_type": "markdown",
   "metadata": {},
   "source": [
    "### Model building and Training"
   ]
  },
  {
   "cell_type": "markdown",
   "metadata": {},
   "source": [
    "Definir la capa Linear:\n",
    "\n",
    "1. Clase que hereda de keras.layers.Layer y representa una capa lineal personalizada.\n",
    "2. Inicialización: Recibe el número de salidas y una función de activación opcional. Incluye normalización por lotes.\n",
    "3. Construcción: Define los pesos y sesgos, aplicando una regularización L2.\n",
    "4. Llamada: Realiza la multiplicación de matrices y aplica la activación y normalización.\n",
    "5. Configuración: Métodos para obtener y cargar la configuración de la capa.\n",
    "\n",
    "\n",
    "Definir el modelo:\n",
    "\n",
    "6. Clase que hereda de keras.Model, que utiliza la capa Linear.\n",
    "7. Inicialización: Define dos capas lineales, una normalización por lotes y una capa de abandono (dropout).\n",
    "8. Llamada: Pasa los datos a través de las capas definidas.\n",
    "9. Configuración: Métodos para obtener y cargar la configuración del modelo.\n",
    "\n",
    "Compilación del modelo:\n",
    "\n",
    "10. Se compila el modelo con la pérdida de entropía cruzada categórica, el optimizador Adam y la métrica de precisión.\n",
    "\n",
    "Definición de callbacks:\n",
    "\n",
    "11. EarlyStopping: Detiene el entrenamiento si no hay mejora en la pérdida de validación durante 5 épocas.\n",
    "12. ModelCheckpoint: Guarda los mejores pesos del modelo basándose en la pérdida de validación.\n",
    "\n",
    "Entrenamiento del modelo:\n",
    "\n",
    "13. Se entrena el modelo utilizando el conjunto de entrenamiento y validación durante 10 épocas, aplicando los callbacks definidos.\n",
    "\n",
    "Guardar el modelo:\n",
    "\n",
    "14. Se guarda el modelo completo y sus pesos en archivos específicos.\n",
    "\n",
    "Visualización de resultados:\n",
    "\n",
    "15. Se crean subgráficos para mostrar la precisión y la pérdida durante el entrenamiento.\n",
    "16. Se grafican la precisión y la pérdida de entrenamiento y validación en sus respectivos subgráficos."
   ]
  },
  {
   "cell_type": "markdown",
   "metadata": {},
   "source": [
    "### Model Evaluation"
   ]
  },
  {
   "cell_type": "markdown",
   "metadata": {},
   "source": [
    "Cargar el modelo:\n",
    "\n",
    "1. Se inicializa una instancia del modelo con la activación 'relu'.\n",
    "2. Se carga el modelo previamente guardado desde el archivo \"model.keras\".\n",
    "\n",
    "Compilar el modelo con:\n",
    "\n",
    "3. Pérdida de entropía cruzada categórica.\n",
    "4. Optimizador Adam con una tasa de aprendizaje de 0.01.\n",
    "5. Métrica de precisión.\n",
    "\n",
    "Evaluar el modelo:\n",
    "\n",
    "6. Se evalúa el rendimiento del modelo en el conjunto de prueba (test_ds), obteniendo la pérdida y la precisión.\n",
    "7. Se imprimen los resultados de la evaluación.\n",
    "\n",
    "Obtener predicciones:\n",
    "\n",
    "8. Se generan predicciones sobre el conjunto de prueba usando el modelo cargado.\n",
    "9. Se convierten las predicciones a clases predichas (usando argmax).\n",
    "\n",
    "Visualizar la matriz de confusión\n",
    "\n",
    "Generar un informe de clasificación"
   ]
  },
  {
   "cell_type": "markdown",
   "metadata": {},
   "source": [
    "# Conclusion"
   ]
  },
  {
   "cell_type": "markdown",
   "metadata": {},
   "source": [
    "Al inicio de este trabajo, enfrenté algunas complejidades debido a mi falta de experiencia con TensorFlow, ya que hasta ahora he estado más enfocado en mejorar en scikit-learn. Aprendí que al intentar ejecutar el modelo solo con los pesos guardados (tuve ese problema todo el fin de semana), no se obtiene el rendimiento esperado, dado que estos pesos están personalizados para una arquitectura específica. Por lo tanto, es crucial cargar el modelo completo en lugar de solo los pesos.\n",
    "\n",
    "Además, el diseño del modelo incluye capas como la normalización por lotes y la capa de abandono (dropout), lo que debería ayudar a prevenir el sobreajuste. Quizá podría obtener mejores resultados a los ya obtenidos (0.8305203938115331), pero tendría que empezar a probar con más parámetros y eso es gasto computacional ya que cada ejecución demora aprox 15 min"
   ]
  }
 ],
 "metadata": {
  "kernelspec": {
   "display_name": ".venv",
   "language": "python",
   "name": "python3"
  },
  "language_info": {
   "codemirror_mode": {
    "name": "ipython",
    "version": 3
   },
   "file_extension": ".py",
   "mimetype": "text/x-python",
   "name": "python",
   "nbconvert_exporter": "python",
   "pygments_lexer": "ipython3",
   "version": "3.11.9"
  }
 },
 "nbformat": 4,
 "nbformat_minor": 2
}
