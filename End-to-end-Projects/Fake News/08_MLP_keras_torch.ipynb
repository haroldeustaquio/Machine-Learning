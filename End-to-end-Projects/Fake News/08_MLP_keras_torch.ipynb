{
 "cells": [
  {
   "cell_type": "markdown",
   "id": "4b00f678-39f7-4be2-aa51-cc4737fcd1a0",
   "metadata": {
    "id": "4b00f678-39f7-4be2-aa51-cc4737fcd1a0"
   },
   "source": [
    "# MLP"
   ]
  },
  {
   "cell_type": "markdown",
   "id": "c3d5ac6f-124d-40d1-8e97-ae14a28efb2a",
   "metadata": {
    "id": "c3d5ac6f-124d-40d1-8e97-ae14a28efb2a"
   },
   "source": [
    "- Dataset: https://www.kaggle.com/datasets/clmentbisaillon/fake-and-real-news-dataset"
   ]
  },
  {
   "cell_type": "markdown",
   "id": "9d1cd0c3-599d-4c44-a4df-fb42b5f49bb1",
   "metadata": {
    "id": "9d1cd0c3-599d-4c44-a4df-fb42b5f49bb1"
   },
   "source": [
    "## 1.- Preprocesamiento"
   ]
  },
  {
   "cell_type": "code",
   "execution_count": 1,
   "id": "7ffd6a1b-4efe-45cc-9436-fa26e4f10aff",
   "metadata": {
    "colab": {
     "base_uri": "https://localhost:8080/"
    },
    "id": "7ffd6a1b-4efe-45cc-9436-fa26e4f10aff",
    "outputId": "d7a0203a-0a4b-4326-890c-8caac9db4a24"
   },
   "outputs": [
    {
     "data": {
      "text/plain": [
       "('2.4.1+cpu', '3.5.0')"
      ]
     },
     "execution_count": 1,
     "metadata": {},
     "output_type": "execute_result"
    }
   ],
   "source": [
    "import os\n",
    "# os.environ['TF_CPP_MIN_LOG_LEVEL'] = '3' # Disable tensorflow debugging logs\n",
    "import pandas as pd\n",
    "# os.environ[\"KERAS_BACKEND\"] = \"torch\"\n",
    "import keras\n",
    "import torch\n",
    "\n",
    "torch.__version__, keras.__version__"
   ]
  },
  {
   "cell_type": "code",
   "execution_count": 2,
   "id": "6f850e02-db52-441f-99dd-41a7e08b594c",
   "metadata": {
    "id": "6f850e02-db52-441f-99dd-41a7e08b594c"
   },
   "outputs": [],
   "source": [
    "fake_df = pd.read_csv('data/Fake.csv')\n",
    "true_df = pd.read_csv('data/True.csv')"
   ]
  },
  {
   "cell_type": "code",
   "execution_count": 3,
   "id": "35f0db65-4358-4f2b-baa7-3cf6250519ee",
   "metadata": {
    "colab": {
     "base_uri": "https://localhost:8080/",
     "height": 328
    },
    "id": "35f0db65-4358-4f2b-baa7-3cf6250519ee",
    "outputId": "4ca7fee1-f4b6-469e-b68b-d83b5c2f81f6"
   },
   "outputs": [
    {
     "data": {
      "text/html": [
       "<div>\n",
       "<style scoped>\n",
       "    .dataframe tbody tr th:only-of-type {\n",
       "        vertical-align: middle;\n",
       "    }\n",
       "\n",
       "    .dataframe tbody tr th {\n",
       "        vertical-align: top;\n",
       "    }\n",
       "\n",
       "    .dataframe thead th {\n",
       "        text-align: right;\n",
       "    }\n",
       "</style>\n",
       "<table border=\"1\" class=\"dataframe\">\n",
       "  <thead>\n",
       "    <tr style=\"text-align: right;\">\n",
       "      <th></th>\n",
       "      <th>title</th>\n",
       "      <th>text</th>\n",
       "      <th>subject</th>\n",
       "      <th>date</th>\n",
       "    </tr>\n",
       "  </thead>\n",
       "  <tbody>\n",
       "    <tr>\n",
       "      <th>0</th>\n",
       "      <td>Donald Trump Sends Out Embarrassing New Year’...</td>\n",
       "      <td>Donald Trump just couldn t wish all Americans ...</td>\n",
       "      <td>News</td>\n",
       "      <td>December 31, 2017</td>\n",
       "    </tr>\n",
       "    <tr>\n",
       "      <th>1</th>\n",
       "      <td>Drunk Bragging Trump Staffer Started Russian ...</td>\n",
       "      <td>House Intelligence Committee Chairman Devin Nu...</td>\n",
       "      <td>News</td>\n",
       "      <td>December 31, 2017</td>\n",
       "    </tr>\n",
       "    <tr>\n",
       "      <th>2</th>\n",
       "      <td>Sheriff David Clarke Becomes An Internet Joke...</td>\n",
       "      <td>On Friday, it was revealed that former Milwauk...</td>\n",
       "      <td>News</td>\n",
       "      <td>December 30, 2017</td>\n",
       "    </tr>\n",
       "    <tr>\n",
       "      <th>3</th>\n",
       "      <td>Trump Is So Obsessed He Even Has Obama’s Name...</td>\n",
       "      <td>On Christmas day, Donald Trump announced that ...</td>\n",
       "      <td>News</td>\n",
       "      <td>December 29, 2017</td>\n",
       "    </tr>\n",
       "    <tr>\n",
       "      <th>4</th>\n",
       "      <td>Pope Francis Just Called Out Donald Trump Dur...</td>\n",
       "      <td>Pope Francis used his annual Christmas Day mes...</td>\n",
       "      <td>News</td>\n",
       "      <td>December 25, 2017</td>\n",
       "    </tr>\n",
       "  </tbody>\n",
       "</table>\n",
       "</div>"
      ],
      "text/plain": [
       "                                               title  \\\n",
       "0   Donald Trump Sends Out Embarrassing New Year’...   \n",
       "1   Drunk Bragging Trump Staffer Started Russian ...   \n",
       "2   Sheriff David Clarke Becomes An Internet Joke...   \n",
       "3   Trump Is So Obsessed He Even Has Obama’s Name...   \n",
       "4   Pope Francis Just Called Out Donald Trump Dur...   \n",
       "\n",
       "                                                text subject  \\\n",
       "0  Donald Trump just couldn t wish all Americans ...    News   \n",
       "1  House Intelligence Committee Chairman Devin Nu...    News   \n",
       "2  On Friday, it was revealed that former Milwauk...    News   \n",
       "3  On Christmas day, Donald Trump announced that ...    News   \n",
       "4  Pope Francis used his annual Christmas Day mes...    News   \n",
       "\n",
       "                date  \n",
       "0  December 31, 2017  \n",
       "1  December 31, 2017  \n",
       "2  December 30, 2017  \n",
       "3  December 29, 2017  \n",
       "4  December 25, 2017  "
      ]
     },
     "execution_count": 3,
     "metadata": {},
     "output_type": "execute_result"
    }
   ],
   "source": [
    "fake_df.head()"
   ]
  },
  {
   "cell_type": "markdown",
   "id": "bb0ca784-81d1-4294-923f-6ae1882587d9",
   "metadata": {
    "id": "bb0ca784-81d1-4294-923f-6ae1882587d9"
   },
   "source": [
    "- Agregar etiquetas de clase"
   ]
  },
  {
   "cell_type": "code",
   "execution_count": 4,
   "id": "9e75ec97-b996-49ff-a7a6-7c17aaac1371",
   "metadata": {
    "id": "9e75ec97-b996-49ff-a7a6-7c17aaac1371"
   },
   "outputs": [],
   "source": [
    "fake_df['target'] = 1\n",
    "true_df['target'] = 0"
   ]
  },
  {
   "cell_type": "code",
   "execution_count": 5,
   "id": "af89b494-7e3c-486c-837e-326a9b96a3bc",
   "metadata": {
    "colab": {
     "base_uri": "https://localhost:8080/"
    },
    "id": "af89b494-7e3c-486c-837e-326a9b96a3bc",
    "outputId": "93a66aa7-019c-4efa-8f79-e741d50b94bc"
   },
   "outputs": [
    {
     "data": {
      "text/plain": [
       "(23481, 21417)"
      ]
     },
     "execution_count": 5,
     "metadata": {},
     "output_type": "execute_result"
    }
   ],
   "source": [
    "len(fake_df), len(true_df)"
   ]
  },
  {
   "cell_type": "code",
   "execution_count": 6,
   "id": "b55f28f4-46f3-4e92-aae0-9fc159bfea69",
   "metadata": {
    "colab": {
     "base_uri": "https://localhost:8080/",
     "height": 397
    },
    "id": "b55f28f4-46f3-4e92-aae0-9fc159bfea69",
    "outputId": "d303d984-b07a-4b1b-edfe-0bc772cc2a66"
   },
   "outputs": [
    {
     "data": {
      "text/html": [
       "<div>\n",
       "<style scoped>\n",
       "    .dataframe tbody tr th:only-of-type {\n",
       "        vertical-align: middle;\n",
       "    }\n",
       "\n",
       "    .dataframe tbody tr th {\n",
       "        vertical-align: top;\n",
       "    }\n",
       "\n",
       "    .dataframe thead th {\n",
       "        text-align: right;\n",
       "    }\n",
       "</style>\n",
       "<table border=\"1\" class=\"dataframe\">\n",
       "  <thead>\n",
       "    <tr style=\"text-align: right;\">\n",
       "      <th></th>\n",
       "      <th>title</th>\n",
       "      <th>text</th>\n",
       "      <th>subject</th>\n",
       "      <th>date</th>\n",
       "      <th>target</th>\n",
       "    </tr>\n",
       "  </thead>\n",
       "  <tbody>\n",
       "    <tr>\n",
       "      <th>23476</th>\n",
       "      <td>McPain: John McCain Furious That Iran Treated ...</td>\n",
       "      <td>21st Century Wire says As 21WIRE reported earl...</td>\n",
       "      <td>Middle-east</td>\n",
       "      <td>January 16, 2016</td>\n",
       "      <td>1</td>\n",
       "    </tr>\n",
       "    <tr>\n",
       "      <th>23477</th>\n",
       "      <td>JUSTICE? Yahoo Settles E-mail Privacy Class-ac...</td>\n",
       "      <td>21st Century Wire says It s a familiar theme. ...</td>\n",
       "      <td>Middle-east</td>\n",
       "      <td>January 16, 2016</td>\n",
       "      <td>1</td>\n",
       "    </tr>\n",
       "    <tr>\n",
       "      <th>23478</th>\n",
       "      <td>Sunnistan: US and Allied ‘Safe Zone’ Plan to T...</td>\n",
       "      <td>Patrick Henningsen  21st Century WireRemember ...</td>\n",
       "      <td>Middle-east</td>\n",
       "      <td>January 15, 2016</td>\n",
       "      <td>1</td>\n",
       "    </tr>\n",
       "    <tr>\n",
       "      <th>23479</th>\n",
       "      <td>How to Blow $700 Million: Al Jazeera America F...</td>\n",
       "      <td>21st Century Wire says Al Jazeera America will...</td>\n",
       "      <td>Middle-east</td>\n",
       "      <td>January 14, 2016</td>\n",
       "      <td>1</td>\n",
       "    </tr>\n",
       "    <tr>\n",
       "      <th>23480</th>\n",
       "      <td>10 U.S. Navy Sailors Held by Iranian Military ...</td>\n",
       "      <td>21st Century Wire says As 21WIRE predicted in ...</td>\n",
       "      <td>Middle-east</td>\n",
       "      <td>January 12, 2016</td>\n",
       "      <td>1</td>\n",
       "    </tr>\n",
       "  </tbody>\n",
       "</table>\n",
       "</div>"
      ],
      "text/plain": [
       "                                                   title  \\\n",
       "23476  McPain: John McCain Furious That Iran Treated ...   \n",
       "23477  JUSTICE? Yahoo Settles E-mail Privacy Class-ac...   \n",
       "23478  Sunnistan: US and Allied ‘Safe Zone’ Plan to T...   \n",
       "23479  How to Blow $700 Million: Al Jazeera America F...   \n",
       "23480  10 U.S. Navy Sailors Held by Iranian Military ...   \n",
       "\n",
       "                                                    text      subject  \\\n",
       "23476  21st Century Wire says As 21WIRE reported earl...  Middle-east   \n",
       "23477  21st Century Wire says It s a familiar theme. ...  Middle-east   \n",
       "23478  Patrick Henningsen  21st Century WireRemember ...  Middle-east   \n",
       "23479  21st Century Wire says Al Jazeera America will...  Middle-east   \n",
       "23480  21st Century Wire says As 21WIRE predicted in ...  Middle-east   \n",
       "\n",
       "                   date  target  \n",
       "23476  January 16, 2016       1  \n",
       "23477  January 16, 2016       1  \n",
       "23478  January 15, 2016       1  \n",
       "23479  January 14, 2016       1  \n",
       "23480  January 12, 2016       1  "
      ]
     },
     "execution_count": 6,
     "metadata": {},
     "output_type": "execute_result"
    }
   ],
   "source": [
    "fake_df.tail()"
   ]
  },
  {
   "cell_type": "markdown",
   "id": "50cecb75-3a47-4915-99c4-1c3636eadc4a",
   "metadata": {
    "id": "50cecb75-3a47-4915-99c4-1c3636eadc4a"
   },
   "source": [
    "- Crea un df de los dos archivos"
   ]
  },
  {
   "cell_type": "code",
   "execution_count": 7,
   "id": "03b3818f-05d4-4d42-bbec-aa027bc373d3",
   "metadata": {
    "colab": {
     "base_uri": "https://localhost:8080/",
     "height": 414
    },
    "id": "03b3818f-05d4-4d42-bbec-aa027bc373d3",
    "outputId": "238c2f18-492d-498d-f20c-dc5cd5368d74"
   },
   "outputs": [
    {
     "data": {
      "text/html": [
       "<div>\n",
       "<style scoped>\n",
       "    .dataframe tbody tr th:only-of-type {\n",
       "        vertical-align: middle;\n",
       "    }\n",
       "\n",
       "    .dataframe tbody tr th {\n",
       "        vertical-align: top;\n",
       "    }\n",
       "\n",
       "    .dataframe thead th {\n",
       "        text-align: right;\n",
       "    }\n",
       "</style>\n",
       "<table border=\"1\" class=\"dataframe\">\n",
       "  <thead>\n",
       "    <tr style=\"text-align: right;\">\n",
       "      <th></th>\n",
       "      <th>title</th>\n",
       "      <th>text</th>\n",
       "      <th>subject</th>\n",
       "      <th>date</th>\n",
       "      <th>target</th>\n",
       "    </tr>\n",
       "  </thead>\n",
       "  <tbody>\n",
       "    <tr>\n",
       "      <th>0</th>\n",
       "      <td>As U.S. budget fight looms, Republicans flip t...</td>\n",
       "      <td>WASHINGTON (Reuters) - The head of a conservat...</td>\n",
       "      <td>politicsNews</td>\n",
       "      <td>December 31, 2017</td>\n",
       "      <td>0</td>\n",
       "    </tr>\n",
       "    <tr>\n",
       "      <th>1</th>\n",
       "      <td>U.S. military to accept transgender recruits o...</td>\n",
       "      <td>WASHINGTON (Reuters) - Transgender people will...</td>\n",
       "      <td>politicsNews</td>\n",
       "      <td>December 29, 2017</td>\n",
       "      <td>0</td>\n",
       "    </tr>\n",
       "    <tr>\n",
       "      <th>2</th>\n",
       "      <td>Senior U.S. Republican senator: 'Let Mr. Muell...</td>\n",
       "      <td>WASHINGTON (Reuters) - The special counsel inv...</td>\n",
       "      <td>politicsNews</td>\n",
       "      <td>December 31, 2017</td>\n",
       "      <td>0</td>\n",
       "    </tr>\n",
       "    <tr>\n",
       "      <th>3</th>\n",
       "      <td>FBI Russia probe helped by Australian diplomat...</td>\n",
       "      <td>WASHINGTON (Reuters) - Trump campaign adviser ...</td>\n",
       "      <td>politicsNews</td>\n",
       "      <td>December 30, 2017</td>\n",
       "      <td>0</td>\n",
       "    </tr>\n",
       "    <tr>\n",
       "      <th>4</th>\n",
       "      <td>Trump wants Postal Service to charge 'much mor...</td>\n",
       "      <td>SEATTLE/WASHINGTON (Reuters) - President Donal...</td>\n",
       "      <td>politicsNews</td>\n",
       "      <td>December 29, 2017</td>\n",
       "      <td>0</td>\n",
       "    </tr>\n",
       "  </tbody>\n",
       "</table>\n",
       "</div>"
      ],
      "text/plain": [
       "                                               title  \\\n",
       "0  As U.S. budget fight looms, Republicans flip t...   \n",
       "1  U.S. military to accept transgender recruits o...   \n",
       "2  Senior U.S. Republican senator: 'Let Mr. Muell...   \n",
       "3  FBI Russia probe helped by Australian diplomat...   \n",
       "4  Trump wants Postal Service to charge 'much mor...   \n",
       "\n",
       "                                                text       subject  \\\n",
       "0  WASHINGTON (Reuters) - The head of a conservat...  politicsNews   \n",
       "1  WASHINGTON (Reuters) - Transgender people will...  politicsNews   \n",
       "2  WASHINGTON (Reuters) - The special counsel inv...  politicsNews   \n",
       "3  WASHINGTON (Reuters) - Trump campaign adviser ...  politicsNews   \n",
       "4  SEATTLE/WASHINGTON (Reuters) - President Donal...  politicsNews   \n",
       "\n",
       "                 date  target  \n",
       "0  December 31, 2017        0  \n",
       "1  December 29, 2017        0  \n",
       "2  December 31, 2017        0  \n",
       "3  December 30, 2017        0  \n",
       "4  December 29, 2017        0  "
      ]
     },
     "execution_count": 7,
     "metadata": {},
     "output_type": "execute_result"
    }
   ],
   "source": [
    "df = pd.concat([true_df, fake_df])\n",
    "df = df.reset_index(drop=True) # Create id to avoid nan and replicate id bug\n",
    "df.head()"
   ]
  },
  {
   "cell_type": "code",
   "execution_count": 8,
   "id": "9811ed46-8db4-4858-be7d-a5b2a8cf138d",
   "metadata": {
    "colab": {
     "base_uri": "https://localhost:8080/",
     "height": 397
    },
    "id": "9811ed46-8db4-4858-be7d-a5b2a8cf138d",
    "outputId": "acafac15-1dd3-44dc-b15b-130d8e448352"
   },
   "outputs": [
    {
     "data": {
      "text/html": [
       "<div>\n",
       "<style scoped>\n",
       "    .dataframe tbody tr th:only-of-type {\n",
       "        vertical-align: middle;\n",
       "    }\n",
       "\n",
       "    .dataframe tbody tr th {\n",
       "        vertical-align: top;\n",
       "    }\n",
       "\n",
       "    .dataframe thead th {\n",
       "        text-align: right;\n",
       "    }\n",
       "</style>\n",
       "<table border=\"1\" class=\"dataframe\">\n",
       "  <thead>\n",
       "    <tr style=\"text-align: right;\">\n",
       "      <th></th>\n",
       "      <th>title</th>\n",
       "      <th>text</th>\n",
       "      <th>subject</th>\n",
       "      <th>date</th>\n",
       "      <th>target</th>\n",
       "    </tr>\n",
       "  </thead>\n",
       "  <tbody>\n",
       "    <tr>\n",
       "      <th>44893</th>\n",
       "      <td>McPain: John McCain Furious That Iran Treated ...</td>\n",
       "      <td>21st Century Wire says As 21WIRE reported earl...</td>\n",
       "      <td>Middle-east</td>\n",
       "      <td>January 16, 2016</td>\n",
       "      <td>1</td>\n",
       "    </tr>\n",
       "    <tr>\n",
       "      <th>44894</th>\n",
       "      <td>JUSTICE? Yahoo Settles E-mail Privacy Class-ac...</td>\n",
       "      <td>21st Century Wire says It s a familiar theme. ...</td>\n",
       "      <td>Middle-east</td>\n",
       "      <td>January 16, 2016</td>\n",
       "      <td>1</td>\n",
       "    </tr>\n",
       "    <tr>\n",
       "      <th>44895</th>\n",
       "      <td>Sunnistan: US and Allied ‘Safe Zone’ Plan to T...</td>\n",
       "      <td>Patrick Henningsen  21st Century WireRemember ...</td>\n",
       "      <td>Middle-east</td>\n",
       "      <td>January 15, 2016</td>\n",
       "      <td>1</td>\n",
       "    </tr>\n",
       "    <tr>\n",
       "      <th>44896</th>\n",
       "      <td>How to Blow $700 Million: Al Jazeera America F...</td>\n",
       "      <td>21st Century Wire says Al Jazeera America will...</td>\n",
       "      <td>Middle-east</td>\n",
       "      <td>January 14, 2016</td>\n",
       "      <td>1</td>\n",
       "    </tr>\n",
       "    <tr>\n",
       "      <th>44897</th>\n",
       "      <td>10 U.S. Navy Sailors Held by Iranian Military ...</td>\n",
       "      <td>21st Century Wire says As 21WIRE predicted in ...</td>\n",
       "      <td>Middle-east</td>\n",
       "      <td>January 12, 2016</td>\n",
       "      <td>1</td>\n",
       "    </tr>\n",
       "  </tbody>\n",
       "</table>\n",
       "</div>"
      ],
      "text/plain": [
       "                                                   title  \\\n",
       "44893  McPain: John McCain Furious That Iran Treated ...   \n",
       "44894  JUSTICE? Yahoo Settles E-mail Privacy Class-ac...   \n",
       "44895  Sunnistan: US and Allied ‘Safe Zone’ Plan to T...   \n",
       "44896  How to Blow $700 Million: Al Jazeera America F...   \n",
       "44897  10 U.S. Navy Sailors Held by Iranian Military ...   \n",
       "\n",
       "                                                    text      subject  \\\n",
       "44893  21st Century Wire says As 21WIRE reported earl...  Middle-east   \n",
       "44894  21st Century Wire says It s a familiar theme. ...  Middle-east   \n",
       "44895  Patrick Henningsen  21st Century WireRemember ...  Middle-east   \n",
       "44896  21st Century Wire says Al Jazeera America will...  Middle-east   \n",
       "44897  21st Century Wire says As 21WIRE predicted in ...  Middle-east   \n",
       "\n",
       "                   date  target  \n",
       "44893  January 16, 2016       1  \n",
       "44894  January 16, 2016       1  \n",
       "44895  January 15, 2016       1  \n",
       "44896  January 14, 2016       1  \n",
       "44897  January 12, 2016       1  "
      ]
     },
     "execution_count": 8,
     "metadata": {},
     "output_type": "execute_result"
    }
   ],
   "source": [
    "df.tail()"
   ]
  },
  {
   "cell_type": "markdown",
   "id": "704e62f7-ebfe-4a08-919d-21a7b01e8cdb",
   "metadata": {
    "id": "704e62f7-ebfe-4a08-919d-21a7b01e8cdb"
   },
   "source": [
    "- Verifica cadenas vacias"
   ]
  },
  {
   "cell_type": "code",
   "execution_count": 9,
   "id": "616ec96f-a709-41b7-9e85-6262bac0cd74",
   "metadata": {
    "colab": {
     "base_uri": "https://localhost:8080/"
    },
    "id": "616ec96f-a709-41b7-9e85-6262bac0cd74",
    "outputId": "5be46243-6f24-457f-b71d-1d56ef8a06e5"
   },
   "outputs": [
    {
     "data": {
      "text/plain": [
       "0"
      ]
     },
     "execution_count": 9,
     "metadata": {},
     "output_type": "execute_result"
    }
   ],
   "source": [
    "df['text'].isna().sum()"
   ]
  },
  {
   "cell_type": "code",
   "execution_count": 10,
   "id": "d905c9c8-b1d8-4d19-8308-39876f4eebc1",
   "metadata": {
    "colab": {
     "base_uri": "https://localhost:8080/"
    },
    "id": "d905c9c8-b1d8-4d19-8308-39876f4eebc1",
    "outputId": "07994e00-5fe7-4296-fdac-7beb66f214f1"
   },
   "outputs": [
    {
     "data": {
      "text/plain": [
       "44898"
      ]
     },
     "execution_count": 10,
     "metadata": {},
     "output_type": "execute_result"
    }
   ],
   "source": [
    "len(df)"
   ]
  },
  {
   "cell_type": "markdown",
   "id": "6caf7e1b-c993-4d9a-9b32-c6475f6b688b",
   "metadata": {
    "id": "6caf7e1b-c993-4d9a-9b32-c6475f6b688b"
   },
   "source": [
    "- Elimina duplicados"
   ]
  },
  {
   "cell_type": "code",
   "execution_count": 11,
   "id": "81e6483d-e3e6-4902-aeea-f5b2c00a77a5",
   "metadata": {
    "colab": {
     "base_uri": "https://localhost:8080/"
    },
    "id": "81e6483d-e3e6-4902-aeea-f5b2c00a77a5",
    "outputId": "81e23241-7b88-4fdc-ec74-c18537cd0642"
   },
   "outputs": [
    {
     "data": {
      "text/plain": [
       "38646"
      ]
     },
     "execution_count": 11,
     "metadata": {},
     "output_type": "execute_result"
    }
   ],
   "source": [
    "df = df.drop_duplicates(subset=['text'])\n",
    "len(df)"
   ]
  },
  {
   "cell_type": "code",
   "execution_count": 12,
   "id": "a9f28371-fc90-442d-ac17-dc2749b4cb9f",
   "metadata": {
    "colab": {
     "base_uri": "https://localhost:8080/",
     "height": 745
    },
    "id": "a9f28371-fc90-442d-ac17-dc2749b4cb9f",
    "outputId": "001cad2b-6ad2-48a7-d01b-0e69c09fd185"
   },
   "outputs": [
    {
     "data": {
      "text/html": [
       "<div>\n",
       "<style scoped>\n",
       "    .dataframe tbody tr th:only-of-type {\n",
       "        vertical-align: middle;\n",
       "    }\n",
       "\n",
       "    .dataframe tbody tr th {\n",
       "        vertical-align: top;\n",
       "    }\n",
       "\n",
       "    .dataframe thead th {\n",
       "        text-align: right;\n",
       "    }\n",
       "</style>\n",
       "<table border=\"1\" class=\"dataframe\">\n",
       "  <thead>\n",
       "    <tr style=\"text-align: right;\">\n",
       "      <th></th>\n",
       "      <th>title</th>\n",
       "      <th>text</th>\n",
       "      <th>subject</th>\n",
       "      <th>date</th>\n",
       "      <th>target</th>\n",
       "    </tr>\n",
       "  </thead>\n",
       "  <tbody>\n",
       "    <tr>\n",
       "      <th>0</th>\n",
       "      <td>As U.S. budget fight looms, Republicans flip t...</td>\n",
       "      <td>WASHINGTON (Reuters) - The head of a conservat...</td>\n",
       "      <td>politicsNews</td>\n",
       "      <td>December 31, 2017</td>\n",
       "      <td>0</td>\n",
       "    </tr>\n",
       "    <tr>\n",
       "      <th>1</th>\n",
       "      <td>U.S. military to accept transgender recruits o...</td>\n",
       "      <td>WASHINGTON (Reuters) - Transgender people will...</td>\n",
       "      <td>politicsNews</td>\n",
       "      <td>December 29, 2017</td>\n",
       "      <td>0</td>\n",
       "    </tr>\n",
       "    <tr>\n",
       "      <th>2</th>\n",
       "      <td>Senior U.S. Republican senator: 'Let Mr. Muell...</td>\n",
       "      <td>WASHINGTON (Reuters) - The special counsel inv...</td>\n",
       "      <td>politicsNews</td>\n",
       "      <td>December 31, 2017</td>\n",
       "      <td>0</td>\n",
       "    </tr>\n",
       "    <tr>\n",
       "      <th>3</th>\n",
       "      <td>FBI Russia probe helped by Australian diplomat...</td>\n",
       "      <td>WASHINGTON (Reuters) - Trump campaign adviser ...</td>\n",
       "      <td>politicsNews</td>\n",
       "      <td>December 30, 2017</td>\n",
       "      <td>0</td>\n",
       "    </tr>\n",
       "    <tr>\n",
       "      <th>4</th>\n",
       "      <td>Trump wants Postal Service to charge 'much mor...</td>\n",
       "      <td>SEATTLE/WASHINGTON (Reuters) - President Donal...</td>\n",
       "      <td>politicsNews</td>\n",
       "      <td>December 29, 2017</td>\n",
       "      <td>0</td>\n",
       "    </tr>\n",
       "    <tr>\n",
       "      <th>5</th>\n",
       "      <td>White House, Congress prepare for talks on spe...</td>\n",
       "      <td>WEST PALM BEACH, Fla./WASHINGTON (Reuters) - T...</td>\n",
       "      <td>politicsNews</td>\n",
       "      <td>December 29, 2017</td>\n",
       "      <td>0</td>\n",
       "    </tr>\n",
       "    <tr>\n",
       "      <th>6</th>\n",
       "      <td>Trump says Russia probe will be fair, but time...</td>\n",
       "      <td>WEST PALM BEACH, Fla (Reuters) - President Don...</td>\n",
       "      <td>politicsNews</td>\n",
       "      <td>December 29, 2017</td>\n",
       "      <td>0</td>\n",
       "    </tr>\n",
       "    <tr>\n",
       "      <th>7</th>\n",
       "      <td>Factbox: Trump on Twitter (Dec 29) - Approval ...</td>\n",
       "      <td>The following statements were posted to the ve...</td>\n",
       "      <td>politicsNews</td>\n",
       "      <td>December 29, 2017</td>\n",
       "      <td>0</td>\n",
       "    </tr>\n",
       "    <tr>\n",
       "      <th>8</th>\n",
       "      <td>Trump on Twitter (Dec 28) - Global Warming</td>\n",
       "      <td>The following statements were posted to the ve...</td>\n",
       "      <td>politicsNews</td>\n",
       "      <td>December 29, 2017</td>\n",
       "      <td>0</td>\n",
       "    </tr>\n",
       "    <tr>\n",
       "      <th>9</th>\n",
       "      <td>Alabama official to certify Senator-elect Jone...</td>\n",
       "      <td>WASHINGTON (Reuters) - Alabama Secretary of St...</td>\n",
       "      <td>politicsNews</td>\n",
       "      <td>December 28, 2017</td>\n",
       "      <td>0</td>\n",
       "    </tr>\n",
       "  </tbody>\n",
       "</table>\n",
       "</div>"
      ],
      "text/plain": [
       "                                               title  \\\n",
       "0  As U.S. budget fight looms, Republicans flip t...   \n",
       "1  U.S. military to accept transgender recruits o...   \n",
       "2  Senior U.S. Republican senator: 'Let Mr. Muell...   \n",
       "3  FBI Russia probe helped by Australian diplomat...   \n",
       "4  Trump wants Postal Service to charge 'much mor...   \n",
       "5  White House, Congress prepare for talks on spe...   \n",
       "6  Trump says Russia probe will be fair, but time...   \n",
       "7  Factbox: Trump on Twitter (Dec 29) - Approval ...   \n",
       "8         Trump on Twitter (Dec 28) - Global Warming   \n",
       "9  Alabama official to certify Senator-elect Jone...   \n",
       "\n",
       "                                                text       subject  \\\n",
       "0  WASHINGTON (Reuters) - The head of a conservat...  politicsNews   \n",
       "1  WASHINGTON (Reuters) - Transgender people will...  politicsNews   \n",
       "2  WASHINGTON (Reuters) - The special counsel inv...  politicsNews   \n",
       "3  WASHINGTON (Reuters) - Trump campaign adviser ...  politicsNews   \n",
       "4  SEATTLE/WASHINGTON (Reuters) - President Donal...  politicsNews   \n",
       "5  WEST PALM BEACH, Fla./WASHINGTON (Reuters) - T...  politicsNews   \n",
       "6  WEST PALM BEACH, Fla (Reuters) - President Don...  politicsNews   \n",
       "7  The following statements were posted to the ve...  politicsNews   \n",
       "8  The following statements were posted to the ve...  politicsNews   \n",
       "9  WASHINGTON (Reuters) - Alabama Secretary of St...  politicsNews   \n",
       "\n",
       "                 date  target  \n",
       "0  December 31, 2017        0  \n",
       "1  December 29, 2017        0  \n",
       "2  December 31, 2017        0  \n",
       "3  December 30, 2017        0  \n",
       "4  December 29, 2017        0  \n",
       "5  December 29, 2017        0  \n",
       "6  December 29, 2017        0  \n",
       "7  December 29, 2017        0  \n",
       "8  December 29, 2017        0  \n",
       "9  December 28, 2017        0  "
      ]
     },
     "execution_count": 12,
     "metadata": {},
     "output_type": "execute_result"
    }
   ],
   "source": [
    "df.head(10)"
   ]
  },
  {
   "cell_type": "code",
   "execution_count": 13,
   "id": "23023c67-9ac0-4097-8e91-6b6f417261cb",
   "metadata": {
    "colab": {
     "base_uri": "https://localhost:8080/",
     "height": 999
    },
    "id": "23023c67-9ac0-4097-8e91-6b6f417261cb",
    "outputId": "38275eea-ca05-4c41-c244-08716a734322"
   },
   "outputs": [
    {
     "data": {
      "text/html": [
       "<div>\n",
       "<style scoped>\n",
       "    .dataframe tbody tr th:only-of-type {\n",
       "        vertical-align: middle;\n",
       "    }\n",
       "\n",
       "    .dataframe tbody tr th {\n",
       "        vertical-align: top;\n",
       "    }\n",
       "\n",
       "    .dataframe thead th {\n",
       "        text-align: right;\n",
       "    }\n",
       "</style>\n",
       "<table border=\"1\" class=\"dataframe\">\n",
       "  <thead>\n",
       "    <tr style=\"text-align: right;\">\n",
       "      <th></th>\n",
       "      <th>title</th>\n",
       "      <th>text</th>\n",
       "      <th>subject</th>\n",
       "      <th>date</th>\n",
       "      <th>target</th>\n",
       "    </tr>\n",
       "  </thead>\n",
       "  <tbody>\n",
       "    <tr>\n",
       "      <th>8970</th>\n",
       "      <td>Graphic: Supreme Court roundup</td>\n",
       "      <td></td>\n",
       "      <td>politicsNews</td>\n",
       "      <td>June 16, 2016</td>\n",
       "      <td>0</td>\n",
       "    </tr>\n",
       "    <tr>\n",
       "      <th>33661</th>\n",
       "      <td>TRUMP SLAMS THE GLOBALISTS: “There is no globa...</td>\n",
       "      <td></td>\n",
       "      <td>politics</td>\n",
       "      <td>Dec 1, 2016</td>\n",
       "      <td>1</td>\n",
       "    </tr>\n",
       "    <tr>\n",
       "      <th>35094</th>\n",
       "      <td>MUSLIM INVASION OF AMERICA In Full Swing: Obam...</td>\n",
       "      <td>(Welcome) to America We hope you enjoy our...</td>\n",
       "      <td>politics</td>\n",
       "      <td>Jun 17, 2016</td>\n",
       "      <td>1</td>\n",
       "    </tr>\n",
       "    <tr>\n",
       "      <th>32062</th>\n",
       "      <td>WOW! MAJOR CREDIT CARD COMPANY Still Sponsorin...</td>\n",
       "      <td>Delta Air Lines and Bank of America became ...</td>\n",
       "      <td>politics</td>\n",
       "      <td>Jun 12, 2017</td>\n",
       "      <td>1</td>\n",
       "    </tr>\n",
       "    <tr>\n",
       "      <th>33502</th>\n",
       "      <td>A MUST WATCH! “It’s Time To Show America Is Bi...</td>\n",
       "      <td>#PresidentElectTrumpABSOLUTELY MUST WATCHTod...</td>\n",
       "      <td>politics</td>\n",
       "      <td>Dec 21, 2016</td>\n",
       "      <td>1</td>\n",
       "    </tr>\n",
       "    <tr>\n",
       "      <th>...</th>\n",
       "      <td>...</td>\n",
       "      <td>...</td>\n",
       "      <td>...</td>\n",
       "      <td>...</td>\n",
       "      <td>...</td>\n",
       "    </tr>\n",
       "    <tr>\n",
       "      <th>33499</th>\n",
       "      <td>OHIO ELECTOR TORCHES Anti-Trump Letters He Rec...</td>\n",
       "      <td>pic.twitter.com/KMnLrwB6t1  Richard K. Jones (...</td>\n",
       "      <td>politics</td>\n",
       "      <td>Dec 21, 2016</td>\n",
       "      <td>1</td>\n",
       "    </tr>\n",
       "    <tr>\n",
       "      <th>42714</th>\n",
       "      <td>EMBARRASSING: Obama Explains How He Will ‘Rebu...</td>\n",
       "      <td>re buke r byo ok/ verb 1. express sharp disapp...</td>\n",
       "      <td>left-news</td>\n",
       "      <td>Nov 25, 2015</td>\n",
       "      <td>1</td>\n",
       "    </tr>\n",
       "    <tr>\n",
       "      <th>36178</th>\n",
       "      <td>BLACK LIVES MATTER TERRORISTS May Be Shut Down...</td>\n",
       "      <td>ter ror ist  ter r st/ noun a person who uses ...</td>\n",
       "      <td>politics</td>\n",
       "      <td>Dec 23, 2015</td>\n",
       "      <td>1</td>\n",
       "    </tr>\n",
       "    <tr>\n",
       "      <th>38658</th>\n",
       "      <td>BIG BROTHER: FEDS WANT YOUR DOCTOR TO WARN YOU...</td>\n",
       "      <td>totally out of bounds! This is so wrong and so...</td>\n",
       "      <td>Government News</td>\n",
       "      <td>Jun 26, 2015</td>\n",
       "      <td>1</td>\n",
       "    </tr>\n",
       "    <tr>\n",
       "      <th>34364</th>\n",
       "      <td>GRAPHIC RIOT VIDEOS EXPOSE THUGS ATTACKING ELD...</td>\n",
       "      <td>youngers these days are becoming so moist pic....</td>\n",
       "      <td>politics</td>\n",
       "      <td>Sep 22, 2016</td>\n",
       "      <td>1</td>\n",
       "    </tr>\n",
       "  </tbody>\n",
       "</table>\n",
       "<p>38646 rows × 5 columns</p>\n",
       "</div>"
      ],
      "text/plain": [
       "                                                   title  \\\n",
       "8970                      Graphic: Supreme Court roundup   \n",
       "33661  TRUMP SLAMS THE GLOBALISTS: “There is no globa...   \n",
       "35094  MUSLIM INVASION OF AMERICA In Full Swing: Obam...   \n",
       "32062  WOW! MAJOR CREDIT CARD COMPANY Still Sponsorin...   \n",
       "33502  A MUST WATCH! “It’s Time To Show America Is Bi...   \n",
       "...                                                  ...   \n",
       "33499  OHIO ELECTOR TORCHES Anti-Trump Letters He Rec...   \n",
       "42714  EMBARRASSING: Obama Explains How He Will ‘Rebu...   \n",
       "36178  BLACK LIVES MATTER TERRORISTS May Be Shut Down...   \n",
       "38658  BIG BROTHER: FEDS WANT YOUR DOCTOR TO WARN YOU...   \n",
       "34364  GRAPHIC RIOT VIDEOS EXPOSE THUGS ATTACKING ELD...   \n",
       "\n",
       "                                                    text          subject  \\\n",
       "8970                                                         politicsNews   \n",
       "33661                                                            politics   \n",
       "35094      (Welcome) to America We hope you enjoy our...         politics   \n",
       "32062     Delta Air Lines and Bank of America became ...         politics   \n",
       "33502    #PresidentElectTrumpABSOLUTELY MUST WATCHTod...         politics   \n",
       "...                                                  ...              ...   \n",
       "33499  pic.twitter.com/KMnLrwB6t1  Richard K. Jones (...         politics   \n",
       "42714  re buke r byo ok/ verb 1. express sharp disapp...        left-news   \n",
       "36178  ter ror ist  ter r st/ noun a person who uses ...         politics   \n",
       "38658  totally out of bounds! This is so wrong and so...  Government News   \n",
       "34364  youngers these days are becoming so moist pic....         politics   \n",
       "\n",
       "                 date  target  \n",
       "8970   June 16, 2016        0  \n",
       "33661     Dec 1, 2016       1  \n",
       "35094    Jun 17, 2016       1  \n",
       "32062    Jun 12, 2017       1  \n",
       "33502    Dec 21, 2016       1  \n",
       "...               ...     ...  \n",
       "33499    Dec 21, 2016       1  \n",
       "42714    Nov 25, 2015       1  \n",
       "36178    Dec 23, 2015       1  \n",
       "38658    Jun 26, 2015       1  \n",
       "34364    Sep 22, 2016       1  \n",
       "\n",
       "[38646 rows x 5 columns]"
      ]
     },
     "execution_count": 13,
     "metadata": {},
     "output_type": "execute_result"
    }
   ],
   "source": [
    "df.sort_values(by='text', ascending=True, inplace=False)"
   ]
  },
  {
   "cell_type": "code",
   "execution_count": 14,
   "id": "4ed9afa2-d54a-4701-8af8-3ac7721a8b2a",
   "metadata": {
    "colab": {
     "base_uri": "https://localhost:8080/",
     "height": 35
    },
    "id": "4ed9afa2-d54a-4701-8af8-3ac7721a8b2a",
    "outputId": "b4a2f0d6-0d03-4515-f804-cdd066752e19"
   },
   "outputs": [
    {
     "data": {
      "text/plain": [
       "' '"
      ]
     },
     "execution_count": 14,
     "metadata": {},
     "output_type": "execute_result"
    }
   ],
   "source": [
    "df.loc[8970].text"
   ]
  },
  {
   "cell_type": "markdown",
   "id": "4a9386dd-a8d9-4ca9-a08d-11186faf7692",
   "metadata": {
    "id": "4a9386dd-a8d9-4ca9-a08d-11186faf7692"
   },
   "source": [
    "- Elimina cadenas de espacios"
   ]
  },
  {
   "cell_type": "code",
   "execution_count": 15,
   "id": "43c5e1fd-8ba8-4347-8b5c-018bf6e725d7",
   "metadata": {
    "colab": {
     "base_uri": "https://localhost:8080/",
     "height": 893
    },
    "id": "43c5e1fd-8ba8-4347-8b5c-018bf6e725d7",
    "outputId": "b0d89ee1-bb1b-4e4f-bbab-ddd2abe3c47c"
   },
   "outputs": [
    {
     "data": {
      "text/html": [
       "<div>\n",
       "<style scoped>\n",
       "    .dataframe tbody tr th:only-of-type {\n",
       "        vertical-align: middle;\n",
       "    }\n",
       "\n",
       "    .dataframe tbody tr th {\n",
       "        vertical-align: top;\n",
       "    }\n",
       "\n",
       "    .dataframe thead th {\n",
       "        text-align: right;\n",
       "    }\n",
       "</style>\n",
       "<table border=\"1\" class=\"dataframe\">\n",
       "  <thead>\n",
       "    <tr style=\"text-align: right;\">\n",
       "      <th></th>\n",
       "      <th>title</th>\n",
       "      <th>text</th>\n",
       "      <th>subject</th>\n",
       "      <th>date</th>\n",
       "      <th>target</th>\n",
       "    </tr>\n",
       "  </thead>\n",
       "  <tbody>\n",
       "    <tr>\n",
       "      <th>0</th>\n",
       "      <td>As U.S. budget fight looms, Republicans flip t...</td>\n",
       "      <td>WASHINGTON (Reuters) - The head of a conservat...</td>\n",
       "      <td>politicsNews</td>\n",
       "      <td>December 31, 2017</td>\n",
       "      <td>0</td>\n",
       "    </tr>\n",
       "    <tr>\n",
       "      <th>1</th>\n",
       "      <td>U.S. military to accept transgender recruits o...</td>\n",
       "      <td>WASHINGTON (Reuters) - Transgender people will...</td>\n",
       "      <td>politicsNews</td>\n",
       "      <td>December 29, 2017</td>\n",
       "      <td>0</td>\n",
       "    </tr>\n",
       "    <tr>\n",
       "      <th>2</th>\n",
       "      <td>Senior U.S. Republican senator: 'Let Mr. Muell...</td>\n",
       "      <td>WASHINGTON (Reuters) - The special counsel inv...</td>\n",
       "      <td>politicsNews</td>\n",
       "      <td>December 31, 2017</td>\n",
       "      <td>0</td>\n",
       "    </tr>\n",
       "    <tr>\n",
       "      <th>3</th>\n",
       "      <td>FBI Russia probe helped by Australian diplomat...</td>\n",
       "      <td>WASHINGTON (Reuters) - Trump campaign adviser ...</td>\n",
       "      <td>politicsNews</td>\n",
       "      <td>December 30, 2017</td>\n",
       "      <td>0</td>\n",
       "    </tr>\n",
       "    <tr>\n",
       "      <th>4</th>\n",
       "      <td>Trump wants Postal Service to charge 'much mor...</td>\n",
       "      <td>SEATTLE/WASHINGTON (Reuters) - President Donal...</td>\n",
       "      <td>politicsNews</td>\n",
       "      <td>December 29, 2017</td>\n",
       "      <td>0</td>\n",
       "    </tr>\n",
       "    <tr>\n",
       "      <th>...</th>\n",
       "      <td>...</td>\n",
       "      <td>...</td>\n",
       "      <td>...</td>\n",
       "      <td>...</td>\n",
       "      <td>...</td>\n",
       "    </tr>\n",
       "    <tr>\n",
       "      <th>44115</th>\n",
       "      <td>The White House and The Theatrics of ‘Gun Cont...</td>\n",
       "      <td>21st Century Wire says All the world s a stage...</td>\n",
       "      <td>US_News</td>\n",
       "      <td>January 7, 2016</td>\n",
       "      <td>1</td>\n",
       "    </tr>\n",
       "    <tr>\n",
       "      <th>44116</th>\n",
       "      <td>Activists or Terrorists? How Media Controls an...</td>\n",
       "      <td>Randy Johnson 21st Century WireThe majority ...</td>\n",
       "      <td>US_News</td>\n",
       "      <td>January 7, 2016</td>\n",
       "      <td>1</td>\n",
       "    </tr>\n",
       "    <tr>\n",
       "      <th>44117</th>\n",
       "      <td>BOILER ROOM – No Surrender, No Retreat, Heads ...</td>\n",
       "      <td>Tune in to the Alternate Current Radio Network...</td>\n",
       "      <td>US_News</td>\n",
       "      <td>January 6, 2016</td>\n",
       "      <td>1</td>\n",
       "    </tr>\n",
       "    <tr>\n",
       "      <th>44118</th>\n",
       "      <td>Federal Showdown Looms in Oregon After BLM Abu...</td>\n",
       "      <td>21st Century Wire says A new front has just op...</td>\n",
       "      <td>US_News</td>\n",
       "      <td>January 4, 2016</td>\n",
       "      <td>1</td>\n",
       "    </tr>\n",
       "    <tr>\n",
       "      <th>44119</th>\n",
       "      <td>A Troubled King: Chicago’s Rahm Emanuel Desper...</td>\n",
       "      <td>21st Century Wire says It s not that far away....</td>\n",
       "      <td>US_News</td>\n",
       "      <td>January 2, 2016</td>\n",
       "      <td>1</td>\n",
       "    </tr>\n",
       "  </tbody>\n",
       "</table>\n",
       "<p>38644 rows × 5 columns</p>\n",
       "</div>"
      ],
      "text/plain": [
       "                                                   title  \\\n",
       "0      As U.S. budget fight looms, Republicans flip t...   \n",
       "1      U.S. military to accept transgender recruits o...   \n",
       "2      Senior U.S. Republican senator: 'Let Mr. Muell...   \n",
       "3      FBI Russia probe helped by Australian diplomat...   \n",
       "4      Trump wants Postal Service to charge 'much mor...   \n",
       "...                                                  ...   \n",
       "44115  The White House and The Theatrics of ‘Gun Cont...   \n",
       "44116  Activists or Terrorists? How Media Controls an...   \n",
       "44117  BOILER ROOM – No Surrender, No Retreat, Heads ...   \n",
       "44118  Federal Showdown Looms in Oregon After BLM Abu...   \n",
       "44119  A Troubled King: Chicago’s Rahm Emanuel Desper...   \n",
       "\n",
       "                                                    text       subject  \\\n",
       "0      WASHINGTON (Reuters) - The head of a conservat...  politicsNews   \n",
       "1      WASHINGTON (Reuters) - Transgender people will...  politicsNews   \n",
       "2      WASHINGTON (Reuters) - The special counsel inv...  politicsNews   \n",
       "3      WASHINGTON (Reuters) - Trump campaign adviser ...  politicsNews   \n",
       "4      SEATTLE/WASHINGTON (Reuters) - President Donal...  politicsNews   \n",
       "...                                                  ...           ...   \n",
       "44115  21st Century Wire says All the world s a stage...       US_News   \n",
       "44116    Randy Johnson 21st Century WireThe majority ...       US_News   \n",
       "44117  Tune in to the Alternate Current Radio Network...       US_News   \n",
       "44118  21st Century Wire says A new front has just op...       US_News   \n",
       "44119  21st Century Wire says It s not that far away....       US_News   \n",
       "\n",
       "                     date  target  \n",
       "0      December 31, 2017        0  \n",
       "1      December 29, 2017        0  \n",
       "2      December 31, 2017        0  \n",
       "3      December 30, 2017        0  \n",
       "4      December 29, 2017        0  \n",
       "...                   ...     ...  \n",
       "44115     January 7, 2016       1  \n",
       "44116     January 7, 2016       1  \n",
       "44117     January 6, 2016       1  \n",
       "44118     January 4, 2016       1  \n",
       "44119     January 2, 2016       1  \n",
       "\n",
       "[38644 rows x 5 columns]"
      ]
     },
     "execution_count": 15,
     "metadata": {},
     "output_type": "execute_result"
    }
   ],
   "source": [
    "df = df[df['text'].str.strip() != '']\n",
    "df"
   ]
  },
  {
   "cell_type": "code",
   "execution_count": 16,
   "id": "17a77ff2-5799-488c-8ee7-3ae3a32395b9",
   "metadata": {
    "id": "17a77ff2-5799-488c-8ee7-3ae3a32395b9"
   },
   "outputs": [],
   "source": [
    "df = df.reset_index(drop=True)"
   ]
  },
  {
   "cell_type": "code",
   "execution_count": 17,
   "id": "0e7f3959-32ca-49ad-abca-ef3e1fc9c080",
   "metadata": {
    "colab": {
     "base_uri": "https://localhost:8080/"
    },
    "id": "0e7f3959-32ca-49ad-abca-ef3e1fc9c080",
    "outputId": "445a5084-5791-464d-bdce-6781a3c90da8"
   },
   "outputs": [
    {
     "data": {
      "text/plain": [
       "38644"
      ]
     },
     "execution_count": 17,
     "metadata": {},
     "output_type": "execute_result"
    }
   ],
   "source": [
    "len(df)"
   ]
  },
  {
   "cell_type": "markdown",
   "id": "6ab0afbd-c0a7-4727-b138-e7b4ab27e384",
   "metadata": {
    "id": "6ab0afbd-c0a7-4727-b138-e7b4ab27e384"
   },
   "source": [
    "- Crea nueva columna añadiendo el título al texto"
   ]
  },
  {
   "cell_type": "code",
   "execution_count": 18,
   "id": "dca02c1a-7197-43dd-b97b-71556c1a1491",
   "metadata": {
    "id": "dca02c1a-7197-43dd-b97b-71556c1a1491"
   },
   "outputs": [],
   "source": [
    "df['clean_text'] = df['title']+ df['text']"
   ]
  },
  {
   "cell_type": "code",
   "execution_count": 19,
   "id": "1f664158-63c6-4739-9723-052bbe65461f",
   "metadata": {
    "colab": {
     "base_uri": "https://localhost:8080/",
     "height": 1000
    },
    "id": "1f664158-63c6-4739-9723-052bbe65461f",
    "outputId": "9beaa4db-420f-4a60-e956-3927fe2a95c4"
   },
   "outputs": [
    {
     "data": {
      "text/html": [
       "<div>\n",
       "<style scoped>\n",
       "    .dataframe tbody tr th:only-of-type {\n",
       "        vertical-align: middle;\n",
       "    }\n",
       "\n",
       "    .dataframe tbody tr th {\n",
       "        vertical-align: top;\n",
       "    }\n",
       "\n",
       "    .dataframe thead th {\n",
       "        text-align: right;\n",
       "    }\n",
       "</style>\n",
       "<table border=\"1\" class=\"dataframe\">\n",
       "  <thead>\n",
       "    <tr style=\"text-align: right;\">\n",
       "      <th></th>\n",
       "      <th>title</th>\n",
       "      <th>text</th>\n",
       "      <th>subject</th>\n",
       "      <th>date</th>\n",
       "      <th>target</th>\n",
       "      <th>clean_text</th>\n",
       "    </tr>\n",
       "  </thead>\n",
       "  <tbody>\n",
       "    <tr>\n",
       "      <th>0</th>\n",
       "      <td>As U.S. budget fight looms, Republicans flip t...</td>\n",
       "      <td>WASHINGTON (Reuters) - The head of a conservat...</td>\n",
       "      <td>politicsNews</td>\n",
       "      <td>December 31, 2017</td>\n",
       "      <td>0</td>\n",
       "      <td>As U.S. budget fight looms, Republicans flip t...</td>\n",
       "    </tr>\n",
       "    <tr>\n",
       "      <th>1</th>\n",
       "      <td>U.S. military to accept transgender recruits o...</td>\n",
       "      <td>WASHINGTON (Reuters) - Transgender people will...</td>\n",
       "      <td>politicsNews</td>\n",
       "      <td>December 29, 2017</td>\n",
       "      <td>0</td>\n",
       "      <td>U.S. military to accept transgender recruits o...</td>\n",
       "    </tr>\n",
       "    <tr>\n",
       "      <th>2</th>\n",
       "      <td>Senior U.S. Republican senator: 'Let Mr. Muell...</td>\n",
       "      <td>WASHINGTON (Reuters) - The special counsel inv...</td>\n",
       "      <td>politicsNews</td>\n",
       "      <td>December 31, 2017</td>\n",
       "      <td>0</td>\n",
       "      <td>Senior U.S. Republican senator: 'Let Mr. Muell...</td>\n",
       "    </tr>\n",
       "    <tr>\n",
       "      <th>3</th>\n",
       "      <td>FBI Russia probe helped by Australian diplomat...</td>\n",
       "      <td>WASHINGTON (Reuters) - Trump campaign adviser ...</td>\n",
       "      <td>politicsNews</td>\n",
       "      <td>December 30, 2017</td>\n",
       "      <td>0</td>\n",
       "      <td>FBI Russia probe helped by Australian diplomat...</td>\n",
       "    </tr>\n",
       "    <tr>\n",
       "      <th>4</th>\n",
       "      <td>Trump wants Postal Service to charge 'much mor...</td>\n",
       "      <td>SEATTLE/WASHINGTON (Reuters) - President Donal...</td>\n",
       "      <td>politicsNews</td>\n",
       "      <td>December 29, 2017</td>\n",
       "      <td>0</td>\n",
       "      <td>Trump wants Postal Service to charge 'much mor...</td>\n",
       "    </tr>\n",
       "    <tr>\n",
       "      <th>...</th>\n",
       "      <td>...</td>\n",
       "      <td>...</td>\n",
       "      <td>...</td>\n",
       "      <td>...</td>\n",
       "      <td>...</td>\n",
       "      <td>...</td>\n",
       "    </tr>\n",
       "    <tr>\n",
       "      <th>38639</th>\n",
       "      <td>The White House and The Theatrics of ‘Gun Cont...</td>\n",
       "      <td>21st Century Wire says All the world s a stage...</td>\n",
       "      <td>US_News</td>\n",
       "      <td>January 7, 2016</td>\n",
       "      <td>1</td>\n",
       "      <td>The White House and The Theatrics of ‘Gun Cont...</td>\n",
       "    </tr>\n",
       "    <tr>\n",
       "      <th>38640</th>\n",
       "      <td>Activists or Terrorists? How Media Controls an...</td>\n",
       "      <td>Randy Johnson 21st Century WireThe majority ...</td>\n",
       "      <td>US_News</td>\n",
       "      <td>January 7, 2016</td>\n",
       "      <td>1</td>\n",
       "      <td>Activists or Terrorists? How Media Controls an...</td>\n",
       "    </tr>\n",
       "    <tr>\n",
       "      <th>38641</th>\n",
       "      <td>BOILER ROOM – No Surrender, No Retreat, Heads ...</td>\n",
       "      <td>Tune in to the Alternate Current Radio Network...</td>\n",
       "      <td>US_News</td>\n",
       "      <td>January 6, 2016</td>\n",
       "      <td>1</td>\n",
       "      <td>BOILER ROOM – No Surrender, No Retreat, Heads ...</td>\n",
       "    </tr>\n",
       "    <tr>\n",
       "      <th>38642</th>\n",
       "      <td>Federal Showdown Looms in Oregon After BLM Abu...</td>\n",
       "      <td>21st Century Wire says A new front has just op...</td>\n",
       "      <td>US_News</td>\n",
       "      <td>January 4, 2016</td>\n",
       "      <td>1</td>\n",
       "      <td>Federal Showdown Looms in Oregon After BLM Abu...</td>\n",
       "    </tr>\n",
       "    <tr>\n",
       "      <th>38643</th>\n",
       "      <td>A Troubled King: Chicago’s Rahm Emanuel Desper...</td>\n",
       "      <td>21st Century Wire says It s not that far away....</td>\n",
       "      <td>US_News</td>\n",
       "      <td>January 2, 2016</td>\n",
       "      <td>1</td>\n",
       "      <td>A Troubled King: Chicago’s Rahm Emanuel Desper...</td>\n",
       "    </tr>\n",
       "  </tbody>\n",
       "</table>\n",
       "<p>38644 rows × 6 columns</p>\n",
       "</div>"
      ],
      "text/plain": [
       "                                                   title  \\\n",
       "0      As U.S. budget fight looms, Republicans flip t...   \n",
       "1      U.S. military to accept transgender recruits o...   \n",
       "2      Senior U.S. Republican senator: 'Let Mr. Muell...   \n",
       "3      FBI Russia probe helped by Australian diplomat...   \n",
       "4      Trump wants Postal Service to charge 'much mor...   \n",
       "...                                                  ...   \n",
       "38639  The White House and The Theatrics of ‘Gun Cont...   \n",
       "38640  Activists or Terrorists? How Media Controls an...   \n",
       "38641  BOILER ROOM – No Surrender, No Retreat, Heads ...   \n",
       "38642  Federal Showdown Looms in Oregon After BLM Abu...   \n",
       "38643  A Troubled King: Chicago’s Rahm Emanuel Desper...   \n",
       "\n",
       "                                                    text       subject  \\\n",
       "0      WASHINGTON (Reuters) - The head of a conservat...  politicsNews   \n",
       "1      WASHINGTON (Reuters) - Transgender people will...  politicsNews   \n",
       "2      WASHINGTON (Reuters) - The special counsel inv...  politicsNews   \n",
       "3      WASHINGTON (Reuters) - Trump campaign adviser ...  politicsNews   \n",
       "4      SEATTLE/WASHINGTON (Reuters) - President Donal...  politicsNews   \n",
       "...                                                  ...           ...   \n",
       "38639  21st Century Wire says All the world s a stage...       US_News   \n",
       "38640    Randy Johnson 21st Century WireThe majority ...       US_News   \n",
       "38641  Tune in to the Alternate Current Radio Network...       US_News   \n",
       "38642  21st Century Wire says A new front has just op...       US_News   \n",
       "38643  21st Century Wire says It s not that far away....       US_News   \n",
       "\n",
       "                     date  target  \\\n",
       "0      December 31, 2017        0   \n",
       "1      December 29, 2017        0   \n",
       "2      December 31, 2017        0   \n",
       "3      December 30, 2017        0   \n",
       "4      December 29, 2017        0   \n",
       "...                   ...     ...   \n",
       "38639     January 7, 2016       1   \n",
       "38640     January 7, 2016       1   \n",
       "38641     January 6, 2016       1   \n",
       "38642     January 4, 2016       1   \n",
       "38643     January 2, 2016       1   \n",
       "\n",
       "                                              clean_text  \n",
       "0      As U.S. budget fight looms, Republicans flip t...  \n",
       "1      U.S. military to accept transgender recruits o...  \n",
       "2      Senior U.S. Republican senator: 'Let Mr. Muell...  \n",
       "3      FBI Russia probe helped by Australian diplomat...  \n",
       "4      Trump wants Postal Service to charge 'much mor...  \n",
       "...                                                  ...  \n",
       "38639  The White House and The Theatrics of ‘Gun Cont...  \n",
       "38640  Activists or Terrorists? How Media Controls an...  \n",
       "38641  BOILER ROOM – No Surrender, No Retreat, Heads ...  \n",
       "38642  Federal Showdown Looms in Oregon After BLM Abu...  \n",
       "38643  A Troubled King: Chicago’s Rahm Emanuel Desper...  \n",
       "\n",
       "[38644 rows x 6 columns]"
      ]
     },
     "execution_count": 19,
     "metadata": {},
     "output_type": "execute_result"
    }
   ],
   "source": [
    "df"
   ]
  },
  {
   "cell_type": "markdown",
   "id": "3eb4b12e-9ea6-492f-906c-e2a205ca0061",
   "metadata": {
    "id": "3eb4b12e-9ea6-492f-906c-e2a205ca0061"
   },
   "source": [
    "- Elimina puntuación y convierte a minúsculas\n",
    "- Se utiliza el método __str.translate()__ para eliminar todos los caracteres de puntuación mediante una tabla de traducción creada con el método __str.maketrans__. La constante string.punctuation contiene todos los caracteres de puntuación ASCII, que se eliminan de los valores en la columna"
   ]
  },
  {
   "cell_type": "code",
   "execution_count": 20,
   "id": "16ff03a8-76aa-4786-a794-e6744a45bc47",
   "metadata": {
    "id": "16ff03a8-76aa-4786-a794-e6744a45bc47"
   },
   "outputs": [],
   "source": [
    "import string"
   ]
  },
  {
   "cell_type": "code",
   "execution_count": 21,
   "id": "6a5aa290-98ec-4e71-a4e4-69efc463f8ec",
   "metadata": {
    "colab": {
     "base_uri": "https://localhost:8080/",
     "height": 536
    },
    "id": "6a5aa290-98ec-4e71-a4e4-69efc463f8ec",
    "outputId": "c2fa713a-12b3-4581-e105-08a0b925c4e5"
   },
   "outputs": [
    {
     "data": {
      "text/html": [
       "<div>\n",
       "<style scoped>\n",
       "    .dataframe tbody tr th:only-of-type {\n",
       "        vertical-align: middle;\n",
       "    }\n",
       "\n",
       "    .dataframe tbody tr th {\n",
       "        vertical-align: top;\n",
       "    }\n",
       "\n",
       "    .dataframe thead th {\n",
       "        text-align: right;\n",
       "    }\n",
       "</style>\n",
       "<table border=\"1\" class=\"dataframe\">\n",
       "  <thead>\n",
       "    <tr style=\"text-align: right;\">\n",
       "      <th></th>\n",
       "      <th>title</th>\n",
       "      <th>text</th>\n",
       "      <th>subject</th>\n",
       "      <th>date</th>\n",
       "      <th>target</th>\n",
       "      <th>clean_text</th>\n",
       "    </tr>\n",
       "  </thead>\n",
       "  <tbody>\n",
       "    <tr>\n",
       "      <th>0</th>\n",
       "      <td>As U.S. budget fight looms, Republicans flip t...</td>\n",
       "      <td>WASHINGTON (Reuters) - The head of a conservat...</td>\n",
       "      <td>politicsNews</td>\n",
       "      <td>December 31, 2017</td>\n",
       "      <td>0</td>\n",
       "      <td>as us budget fight looms republicans flip thei...</td>\n",
       "    </tr>\n",
       "    <tr>\n",
       "      <th>1</th>\n",
       "      <td>U.S. military to accept transgender recruits o...</td>\n",
       "      <td>WASHINGTON (Reuters) - Transgender people will...</td>\n",
       "      <td>politicsNews</td>\n",
       "      <td>December 29, 2017</td>\n",
       "      <td>0</td>\n",
       "      <td>us military to accept transgender recruits on ...</td>\n",
       "    </tr>\n",
       "    <tr>\n",
       "      <th>2</th>\n",
       "      <td>Senior U.S. Republican senator: 'Let Mr. Muell...</td>\n",
       "      <td>WASHINGTON (Reuters) - The special counsel inv...</td>\n",
       "      <td>politicsNews</td>\n",
       "      <td>December 31, 2017</td>\n",
       "      <td>0</td>\n",
       "      <td>senior us republican senator let mr mueller do...</td>\n",
       "    </tr>\n",
       "    <tr>\n",
       "      <th>3</th>\n",
       "      <td>FBI Russia probe helped by Australian diplomat...</td>\n",
       "      <td>WASHINGTON (Reuters) - Trump campaign adviser ...</td>\n",
       "      <td>politicsNews</td>\n",
       "      <td>December 30, 2017</td>\n",
       "      <td>0</td>\n",
       "      <td>fbi russia probe helped by australian diplomat...</td>\n",
       "    </tr>\n",
       "    <tr>\n",
       "      <th>4</th>\n",
       "      <td>Trump wants Postal Service to charge 'much mor...</td>\n",
       "      <td>SEATTLE/WASHINGTON (Reuters) - President Donal...</td>\n",
       "      <td>politicsNews</td>\n",
       "      <td>December 29, 2017</td>\n",
       "      <td>0</td>\n",
       "      <td>trump wants postal service to charge much more...</td>\n",
       "    </tr>\n",
       "  </tbody>\n",
       "</table>\n",
       "</div>"
      ],
      "text/plain": [
       "                                               title  \\\n",
       "0  As U.S. budget fight looms, Republicans flip t...   \n",
       "1  U.S. military to accept transgender recruits o...   \n",
       "2  Senior U.S. Republican senator: 'Let Mr. Muell...   \n",
       "3  FBI Russia probe helped by Australian diplomat...   \n",
       "4  Trump wants Postal Service to charge 'much mor...   \n",
       "\n",
       "                                                text       subject  \\\n",
       "0  WASHINGTON (Reuters) - The head of a conservat...  politicsNews   \n",
       "1  WASHINGTON (Reuters) - Transgender people will...  politicsNews   \n",
       "2  WASHINGTON (Reuters) - The special counsel inv...  politicsNews   \n",
       "3  WASHINGTON (Reuters) - Trump campaign adviser ...  politicsNews   \n",
       "4  SEATTLE/WASHINGTON (Reuters) - President Donal...  politicsNews   \n",
       "\n",
       "                 date  target  \\\n",
       "0  December 31, 2017        0   \n",
       "1  December 29, 2017        0   \n",
       "2  December 31, 2017        0   \n",
       "3  December 30, 2017        0   \n",
       "4  December 29, 2017        0   \n",
       "\n",
       "                                          clean_text  \n",
       "0  as us budget fight looms republicans flip thei...  \n",
       "1  us military to accept transgender recruits on ...  \n",
       "2  senior us republican senator let mr mueller do...  \n",
       "3  fbi russia probe helped by australian diplomat...  \n",
       "4  trump wants postal service to charge much more...  "
      ]
     },
     "execution_count": 21,
     "metadata": {},
     "output_type": "execute_result"
    }
   ],
   "source": [
    "df['clean_text'] = df['clean_text'].str.lower().str.translate(str.maketrans('', '', string.punctuation))\n",
    "df.head()"
   ]
  },
  {
   "cell_type": "markdown",
   "id": "a651ba97-16f3-47fd-9798-5353586f346d",
   "metadata": {
    "id": "a651ba97-16f3-47fd-9798-5353586f346d"
   },
   "source": [
    "## 2.- Pipeline"
   ]
  },
  {
   "cell_type": "code",
   "execution_count": 22,
   "id": "5b021552-fe16-4ce9-b3f4-7ec478c81ec2",
   "metadata": {
    "colab": {
     "base_uri": "https://localhost:8080/"
    },
    "id": "5b021552-fe16-4ce9-b3f4-7ec478c81ec2",
    "outputId": "dad7a60d-fd33-4259-f4bf-368514dc47df"
   },
   "outputs": [
    {
     "data": {
      "text/plain": [
       "target\n",
       "0    21191\n",
       "1    17453\n",
       "Name: count, dtype: int64"
      ]
     },
     "execution_count": 22,
     "metadata": {},
     "output_type": "execute_result"
    }
   ],
   "source": [
    "df['target'].value_counts()"
   ]
  },
  {
   "cell_type": "code",
   "execution_count": 23,
   "id": "a0182532-66f2-4482-9630-bda5d1470d76",
   "metadata": {
    "id": "a0182532-66f2-4482-9630-bda5d1470d76"
   },
   "outputs": [],
   "source": [
    "import tensorflow as tf\n",
    "from keras.layers import TextVectorization\n",
    "from sklearn.model_selection import train_test_split\n",
    "import time\n",
    "\n",
    "X = df['clean_text'].values\n",
    "y = df['target'].values\n",
    "\n",
    "X_train, X_test, y_train, y_test = train_test_split(X, y, test_size = 0.25, random_state = 123)"
   ]
  },
  {
   "cell_type": "code",
   "execution_count": 24,
   "id": "f8896562-dd30-431b-a7a1-55d084586352",
   "metadata": {
    "colab": {
     "base_uri": "https://localhost:8080/"
    },
    "id": "f8896562-dd30-431b-a7a1-55d084586352",
    "outputId": "0805b2e0-7d86-44b7-d91c-10bf2ed07dc2",
    "tags": []
   },
   "outputs": [
    {
     "data": {
      "text/plain": [
       "(28983, 9661)"
      ]
     },
     "execution_count": 24,
     "metadata": {},
     "output_type": "execute_result"
    }
   ],
   "source": [
    "len(X_train), len(X_test)"
   ]
  },
  {
   "cell_type": "code",
   "execution_count": 25,
   "id": "428be106",
   "metadata": {},
   "outputs": [
    {
     "data": {
      "text/plain": [
       "array(['boom republican wins montana election after “bodyslamming” reporter ‘i’m sick and tired of this’this is just too rich the democrats threw tons of money into this race and then the republican candidate  bodyslammed  an obnoxious reporter it seemed like the dems really couldn t lose this one bernie s socialist candidate would win in montana the democrats were sure they could run leftists and win in red states not so fastrepublican businessman greg gianforte won montana s sole house district in a special election thursday keeping a seat in republican hands despite facing assault charges for allegedly attacking a reporter who d asked him about the gop s healthcare billthe best ever quote from the  bodyslamming  incident is when gianforte spoke for all americans  i m sick and tired of this after he won he commented on the incident in his victory speech i shouldn t have treated that reporter that way  he told supporters at his rally hereplease check out gianforte s twitter page it s full of great photos of things he s done he makes his own sausage and even gave his wife a sausage maker for christmas he posts photos of his wild game dinners that look amazing this guy is a blast',\n",
       "       'russia designates radio free europe and voice of america as foreign agentsmoscow reuters  russia designated radio free europeradio liberty rferl and voice of america voa as  foreign agents  on tuesday a move aimed at complicating their work in retaliation for what moscow says is unacceptable us pressure on russian media russia s broadside is likely to further sour battered usrussia relations and is part of the fallout from allegations that the kremlin meddled in the us presidential election last year in donald trump s favor something moscow denies  us intelligence officials accused the kremlin of using russian media it finances to influence us voters and russian state broadcaster rt last month reluctantly complied with a us request to register a usbased affiliate as a  foreign agent  under the foreign agent registration act  the kremlin called the move an attack on free speech and says the new media law in russia which western critics have called a disproportionate response is retaliation moscow s response was widely trailed russian lawmakers rushed through the necessary legislation last month and president vladimir putin signed off on it on nov 25 russia s justice ministry said in a statement on its website on tuesday it had now formally designated us governmentsponsored voa and rferl along with seven separate russian or locallanguage news outlets run by rferl as  fulfilling the role of foreign agents  rferl president thomas kent said in a video statement his organization was committed to continuing its journalistic work in russia but was expecting  even more limitations on the work of our company   so far the full nature of these limitations is unknown  said kent  we will study carefully all communications from the ministry and other russian official organizations  voa director amanda bennett told reuters her organization also thought it was unclear what new curbs it would face  the new designation subjects affected usbacked news outlets to the same requirements that are applied to foreignfunded nongovernmental organizations under a 2012 law under that law  foreign agents  must include in any information they publish or broadcast to russian audiences a mention of their  foreign agent  designation they also must apply for inclusion in a government register submit regular reports on their sources of funding on their objectives on how they spend their money and who their managers are they can be subject to spot checks by the authorities to make sure they comply with the rules according to the 2012 law which has forced some ngos to close one of the seven outlets on the justice ministry list provides news on crimea which russia annexed from ukraine in 2014 one on siberia and one on the predominantly muslim north caucasus region another covers provincial russia one is an online tv station another covers the mostly muslim region of tatarstan and the other is a news portal that factchecks the statements of russian officials ',\n",
       "       'fastfood workers protest trumps labor secretary nomineelos angeleswashington reuters  the unionbacked “fight for 15” movement protested at carl’s jr and hardee’s restaurants on thursday in a bid to stop the chains’ head a vocal opponent of minimum wage increases and “overregulation” from becoming us labor secretary senate leadership has pushed back the confirmation hearing of andrew puzder to february from a tentative date of jan 17  puzder 66 leads cke restaurants inc for years he has said obama administration policies have saddled industry with higher costs and contributed to a “governmentmandated restaurant recession”        an enthusiastic supporter of presidentelect donald trump puzder has spoken against efforts to raise the minimum wage to 15 and is widely expected to roll back policies such as those aimed at curbing unpaid overtime and improving worker safety the fouryearold “fight for 15” movement has helped win big minimum wage hikes in california and new york it also seeks to unionize restaurant workers the restaurant industry is the biggest us employer of minimum wage workers and cke’s restaurants like many others have been cited or sued for violating wage and safety rules “if puzder is confirmed as labor secretary it will mean the trump years will be about low pay  instead of making lives better for working americans like me” said terrance dixon 32 who makes 9 per hour at a st louis hardee’s       puzder was unavailable for comment he recently resigned from the international franchise association’s board that industry group represents companies like cke and mcdonald’s corp and has urged its 15000 members to lobby on puzder’s behalf     “these protests distract from the real issues at hand for our nation’s leaders – how to create economic growth at all levels which is the only real solution to income inequality in america” said matt haller ifa’s senior vice president of public affairs       senate democrats including elizabeth warren of massachusetts held a hearing on tuesday after republican rivals rebuffed their request to bring witnesses to puzder’s upcoming confirmation hearing  the protestorpacked event included testimony from laura mcdonald 51 who was a general manager at a ckeowned carl’s jr restaurant in california from 1988 until 2012  she has joined two potential california classaction wage and hour lawsuits against cke which during her tenure switched general managers from salaried to hourly workers in 2004 cke paid 9 million to settle california lawsuits claiming unpaid overtime for general managers “when cke made general managers into hourly employees it set our wages so low that we had to work 4712 hours a week just to earn the same money we’ve been being paid as a salary” mcdonald said  a transition official accused democrats of running a smear campaign and lauded puzder as a successful businessman puzder opponents face stiff odds when it comes to derailing his confirmation by the republicancontrolled senate the last six incoming presidents made 109 cabinetlevel appointments and just six picks did not go on to win senate approval according to an analysis by the website fivethirtyeight ',\n",
       "       ...,\n",
       "       'moscow says escalation of tension on korea peninsula unacceptablemoscow reuters  any escalation of tension on the korean peninsula is unacceptable russian foreign minister sergei lavrov told us secretary of state rex tillerson in a phone call on monday us president donald trump warned over the weekend that  only one thing will work  in dealing with pyongyang hinting that military action was on his mind   lavrov underlined the inadmissibility of any escalation of tension on the korean peninsula to which the usa s military preparations lead and called for contradictions to be resolved by diplomatic means only  the foreign ministry said in a statement lavrov also demanded the return of russian diplomatic property seized by the united states in 2016 when former us president barack obama expelled 35 russian diplomats and ordered that some of its us diplomatic properties be vacated the obama administration said it was retaliating for russian meddling in the us presidential election in july moscow responded ordering the united states to cut the number of its diplomatic and technical staff working in russia by around 60 percent to 455  russia reserves the right to go to court and to take retaliatory measures  lavrov told tillerson russian president vladimir putin said last month the foreign ministry would go to court  to see just how efficient the muchpraised us judiciary is  lavrov and tillerson discussed the conflicts in syria and ukraine the ministry said lavrov said a kievbacked draft law aiming at  reintegration  of ukraine s donbass region which is controlled by russianbacked separatists contradicts the minsk peace agreements aimed at resolving the conflict the draft law would declare separatistcontrolled regions to be  occupied  allowing kiev to use military troops in those territories   the ministry said the russian and us sides had agreed to continue a dialogue on  the difficult issues  between deputy foreign minister sergei ryabkov and undersecretary of state thomas shannon  ',\n",
       "       ' ted cruz is forced to explain his bigotry to gay republican on national television it didn’t go well videoa gay man cornered ted cruz on monday and the republican presidential candidate couldn t handle the simple question posed to himduring a forum on abc s good morning america hosted by robin roberts an openly gay republican restaurant owner concerned about socalled  religious liberty  laws being passed by states like north carolina and mississippi asked cruz how he would protect lgbt people from discrimination if he were to become president i ve noticed a lot of religious freedom laws and somewhat institutionalized discrimination laws happening around the country what would you as president do to protect me and my husband  todd calogne directly askedand cruz didn t waste time going into spinmodethe texas senator claimed that the antilgbt laws  protects everyone  even though they blatantly allow business owners to discriminate against lgbt customers and employees by shielding their bigotry with the bible under the guise of religious freedom religious liberty it applies to jews it applies to christians it applies to muslims it applies to atheists  cruz said even though he has repeatedly stated his intention to violate the religious liberty of muslims and atheists also being gay isn t a religion it s a sexual orientation and all of us we want to live in a world where we don t have the government dictating our beliefs dictating how we live  cruz continued  we have a right to live according to our faith according to our conscience and we shouldn t have a right to force others to give up their faith and give up their belief and i think that keeping government out of the way of your lives protects the freedom of every one of us cruz dodged calogne s question but robin roberts didn t let him get away with it a lot of people would say doesn t everyone have the freedom to be treated equally  she asked  don t we all have the freedom to be equal of course we do  cruz flatout lied to the faces of every american watching cruz then declared that  the first amendment protects everyone equally it protects our faith  before launching into how he intends to push for a constitutional amendment banning samesex marriage which finally gave calogne the answer he had been waiting for under the constitution marriage is a question for the states and so if someone wants to change the marriage laws i don t think it should be five unelected lawyers down in washington dictating that if you want to change the marriage law convince your fellow citizens to change the laws in other words cruz would not protect the rights of gay people as president he would strip rights from them and treat them like secondclass citizenshere s the video via abc abc breaking news  latest news videos religious liberty  laws like those in north carolina and mississippi allow antigay business owners to openly discriminate against gay people it s legalized bigotry similar to the kind experienced by black people in the 1960s during segregation and republicans are literally hiding behind religion to justify and protect their bigotryfeatured image flickr',\n",
       "       'saudiled air strike kills 26 people in yemen medicsdubai reuters  an air strike by a saudiled military coalition killed 26 people at a hotel and an adjoining market in yemen s northern saadah province on wednesday according to medics and a reuters witness the attack which struck the sahar district of the vast territory that borders saudi arabia demolished the budget hotel and reduced market stalls outside to a heap of twisted sheet metal medics retrieved corpses from the rubble  the military alliance led by saudi arabia has launched thousands of air strikes against yemen s armed houthi movement which hails from saadah and now controls much of the country the coalition said in a statement carried on state news agency spa that it was looking into media reports of the strike and would release its findings after a comprehensive review the 212 year war effort has yet to achieve its goal of restoring to power the internationally recognized government but the conflict has unleashed one of the world s worst humanitarian crises and killed at least 10000 people saudi arabia and its allies which receive logistical and intelligence help from the united states accuse the houthis of being a proxy of iran  the houthi group denies those charges and says it is conducting a patriotic resistance against outside aggressors in thrall to the west '],\n",
       "      dtype=object)"
      ]
     },
     "execution_count": 25,
     "metadata": {},
     "output_type": "execute_result"
    }
   ],
   "source": [
    "X_train"
   ]
  },
  {
   "cell_type": "code",
   "execution_count": 35,
   "id": "4ab91a84",
   "metadata": {},
   "outputs": [
    {
     "data": {
      "text/plain": [
       "array([1, 0, 0, ..., 0, 1, 0], dtype=int64)"
      ]
     },
     "execution_count": 35,
     "metadata": {},
     "output_type": "execute_result"
    }
   ],
   "source": [
    "y_train"
   ]
  },
  {
   "cell_type": "code",
   "execution_count": 27,
   "id": "36d1a088-4c8c-4851-b53f-07e3432c3870",
   "metadata": {
    "colab": {
     "base_uri": "https://localhost:8080/"
    },
    "id": "36d1a088-4c8c-4851-b53f-07e3432c3870",
    "outputId": "6d086805-405f-443f-fab5-a8b0281cbd8f",
    "scrolled": true,
    "tags": []
   },
   "outputs": [
    {
     "name": "stdout",
     "output_type": "stream",
     "text": [
      "(<tf.Tensor: shape=(), dtype=string, numpy=b'boom republican wins montana election after \\xe2\\x80\\x9cbodyslamming\\xe2\\x80\\x9d reporter \\xe2\\x80\\x98i\\xe2\\x80\\x99m sick and tired of this\\xe2\\x80\\x99this is just too rich the democrats threw tons of money into this race and then the republican candidate  bodyslammed  an obnoxious reporter it seemed like the dems really couldn t lose this one bernie s socialist candidate would win in montana the democrats were sure they could run leftists and win in red states not so fastrepublican businessman greg gianforte won montana s sole house district in a special election thursday keeping a seat in republican hands despite facing assault charges for allegedly attacking a reporter who d asked him about the gop s healthcare billthe best ever quote from the  bodyslamming  incident is when gianforte spoke for all americans  i m sick and tired of this after he won he commented on the incident in his victory speech i shouldn t have treated that reporter that way  he told supporters at his rally hereplease check out gianforte s twitter page it s full of great photos of things he s done he makes his own sausage and even gave his wife a sausage maker for christmas he posts photos of his wild game dinners that look amazing this guy is a blast'>, <tf.Tensor: shape=(), dtype=int64, numpy=1>)\n"
     ]
    }
   ],
   "source": [
    "raw_train_ds = tf.data.Dataset.from_tensor_slices((X_train, y_train))\n",
    "raw_val_ds = tf.data.Dataset.from_tensor_slices((X_test, y_test))\n",
    "for text in raw_train_ds.take(1):\n",
    "    print(text)"
   ]
  },
  {
   "cell_type": "code",
   "execution_count": null,
   "id": "52401e10-ade1-4f2a-9de7-036b7ee85556",
   "metadata": {
    "colab": {
     "base_uri": "https://localhost:8080/"
    },
    "id": "52401e10-ade1-4f2a-9de7-036b7ee85556",
    "outputId": "98bc431a-0eca-454a-9f94-9c756bcc257a"
   },
   "outputs": [],
   "source": [
    "# Tamaño de vocabulario\n",
    "vocab_size = 10000\n",
    "\n",
    "vectorize_layer = TextVectorization(\n",
    "    standardize=None,\n",
    "    max_tokens=vocab_size,\n",
    "    output_mode='tf-idf')\n",
    "\n",
    "# Obtener el texto sin etiquetas\n",
    "text_ds = raw_train_ds.map(lambda x, y: x)\n",
    "start = time.time()\n",
    "vectorize_layer.adapt(text_ds)\n",
    "print(f'Time for adapt is {time.time()-start:.4f}')\n",
    "\n",
    "\n",
    "batch_size = 16\n",
    "raw_train_ds = raw_train_ds.shuffle(20000).batch(batch_size)\n",
    "raw_val_ds = raw_val_ds.batch(batch_size)\n",
    "\n",
    "\n",
    "for inp, target in raw_train_ds.take(1):\n",
    "    print(inp[:2], target[:2])\n",
    "    \n",
    "vectorize_layer(inp)"
   ]
  },
  {
   "cell_type": "code",
   "execution_count": 48,
   "id": "66a32e9c-612c-49e1-994a-e462207d79f7",
   "metadata": {
    "id": "66a32e9c-612c-49e1-994a-e462207d79f7"
   },
   "outputs": [],
   "source": [
    "def preprocess(x, y):\n",
    "    x = vectorize_layer(x)\n",
    "    return x, y\n",
    "\n",
    "train_ds = raw_train_ds.map(lambda x, y: preprocess(x, y))\n",
    "val_ds = raw_val_ds.map(lambda x, y: preprocess(x, y))"
   ]
  },
  {
   "cell_type": "code",
   "execution_count": 27,
   "id": "7c2d3d20-db4a-42d9-adbc-7bda90aad680",
   "metadata": {
    "colab": {
     "base_uri": "https://localhost:8080/"
    },
    "id": "7c2d3d20-db4a-42d9-adbc-7bda90aad680",
    "outputId": "df692bdd-b1fe-4eb7-e084-a810850ad8d8"
   },
   "outputs": [
    {
     "ename": "NameError",
     "evalue": "name 'train_ds' is not defined",
     "output_type": "error",
     "traceback": [
      "\u001b[1;31m---------------------------------------------------------------------------\u001b[0m",
      "\u001b[1;31mNameError\u001b[0m                                 Traceback (most recent call last)",
      "Cell \u001b[1;32mIn[27], line 1\u001b[0m\n\u001b[1;32m----> 1\u001b[0m \u001b[38;5;28mnext\u001b[39m(\u001b[38;5;28miter\u001b[39m(\u001b[43mtrain_ds\u001b[49m))\n",
      "\u001b[1;31mNameError\u001b[0m: name 'train_ds' is not defined"
     ]
    }
   ],
   "source": [
    "next(iter(train_ds))"
   ]
  },
  {
   "cell_type": "markdown",
   "id": "938c3502-a5d2-4124-a485-00046a013ed2",
   "metadata": {
    "id": "938c3502-a5d2-4124-a485-00046a013ed2"
   },
   "source": [
    "## 3.- Modelo"
   ]
  },
  {
   "cell_type": "markdown",
   "id": "7eecd64f-ddc8-4e3a-a80b-7ec6eb034c47",
   "metadata": {},
   "source": [
    "![title](https://d2l.ai/_images/mlp.svg)\n",
    "\n",
    "Imagen de https://d2l.ai/chapter_multilayer-perceptrons/mlp.html"
   ]
  },
  {
   "cell_type": "code",
   "execution_count": 26,
   "id": "c01b2731-45b9-4472-a147-a3a02413274a",
   "metadata": {
    "colab": {
     "base_uri": "https://localhost:8080/",
     "height": 449
    },
    "id": "c01b2731-45b9-4472-a147-a3a02413274a",
    "outputId": "a8bf1a17-f3e1-48b9-e337-e66678d518cc",
    "tags": []
   },
   "outputs": [
    {
     "data": {
      "image/png": "[encoded data removed]",
      "text/plain": [
       "<Figure size 640x480 with 1 Axes>"
      ]
     },
     "metadata": {},
     "output_type": "display_data"
    }
   ],
   "source": [
    "import numpy as np\n",
    "import matplotlib.pyplot as plt\n",
    "\n",
    "# Funciones de activación\n",
    "def sigmoid(x):\n",
    "    return 1 / (1 + np.exp(-x))\n",
    "\n",
    "def tanh(x):\n",
    "    return np.tanh(x)\n",
    "\n",
    "def relu(x):\n",
    "    return np.maximum(0, x)\n",
    "\n",
    "# Datos para graficar\n",
    "x = np.linspace(-5, 5, 100)\n",
    "\n",
    "# Graficar las funciones de activación\n",
    "plt.plot(x, sigmoid(x), label='Sigmoid')\n",
    "plt.plot(x, tanh(x), label='Tanh')\n",
    "plt.plot(x, relu(x), label='ReLU')\n",
    "\n",
    "# Configuraciones del gráfico\n",
    "plt.xlabel('x')\n",
    "plt.ylabel('y')\n",
    "plt.legend()\n",
    "plt.grid()\n",
    "\n",
    "# Mostrar el gráfico\n",
    "plt.show()"
   ]
  },
  {
   "cell_type": "markdown",
   "id": "a20be898-4158-4e81-a976-b4fdc9763f39",
   "metadata": {
    "id": "a20be898-4158-4e81-a976-b4fdc9763f39"
   },
   "source": [
    "- Definir método build y call de la clase Linear(keras.layers.Layer). Utilizar método self.add_weight para crear los pesos $W$ y $b$.\n",
    "\n",
    "\\begin{equation}\n",
    "    y = Wx + b\n",
    "\\end{equation}\n"
   ]
  },
  {
   "cell_type": "code",
   "execution_count": null,
   "id": "3e769853",
   "metadata": {},
   "outputs": [],
   "source": [
    "class Linear(keras.layers.Layer):\n",
    "    def __init__(self, num_outputs, activation=None):\n",
    "        super().__init__()\n",
    "        self.num_outputs = num_outputs\n",
    "        self.activation = keras.activations.get(activation)\n",
    "\n",
    "    def build(self, input_shape):\n",
    "      input_dim = input_shape[-1]\n",
    "      self.w = self.add_weight(shape=[input_dim, self.num_outputs], name=\"kernel\")\n",
    "      self.b = self.add_weight(shape=[self.num_outputs], name=\"kernel\")\n",
    "\n",
    "        \n",
    "    def call(self, inputs):\n",
    "      x = keras.ops.matmul(inputs, self.w) + self.b\n",
    "      return self.activation(x)"
   ]
  },
  {
   "cell_type": "code",
   "execution_count": null,
   "id": "36992ab8",
   "metadata": {},
   "outputs": [],
   "source": [
    "class Model(keras.Model):\n",
    "    def __init__(self,activation):\n",
    "        super().__init__()\n",
    "        self.l1 = Linear(3,activation)\n",
    "        self.l2 = Linear(1)\n",
    "\n",
    "    def call(self, x):\n",
    "        x = self.l1(x)\n",
    "        x = self.l2(x)\n",
    "        return x\n"
   ]
  },
  {
   "cell_type": "markdown",
   "id": "204c69cc",
   "metadata": {},
   "source": [
    "### relu - 0.001"
   ]
  },
  {
   "cell_type": "code",
   "execution_count": null,
   "id": "3850ed32-225b-4bc3-9ac2-aefa3b9f49db",
   "metadata": {
    "colab": {
     "base_uri": "https://localhost:8080/"
    },
    "id": "3850ed32-225b-4bc3-9ac2-aefa3b9f49db",
    "outputId": "e7472569-6ecb-4e77-f8eb-960f7a437f16",
    "tags": []
   },
   "outputs": [],
   "source": [
    "layer = Linear(10, \"relu\")\n",
    "x = tf.ones([1,10000])\n",
    "out = layer(x)\n",
    "out.shape"
   ]
  },
  {
   "cell_type": "code",
   "execution_count": null,
   "id": "a5751c42-30f8-4d33-b8f8-20a23cc974bd",
   "metadata": {
    "colab": {
     "base_uri": "https://localhost:8080/"
    },
    "id": "a5751c42-30f8-4d33-b8f8-20a23cc974bd",
    "outputId": "96a9f9ee-2237-41fe-e788-e0a99a7d53f8",
    "scrolled": true
   },
   "outputs": [],
   "source": [
    "test_batch = next(iter(train_ds))\n",
    "test_batch[0]"
   ]
  },
  {
   "cell_type": "code",
   "execution_count": 71,
   "id": "a9d2fdf2-e951-4939-9ade-025bb4e91510",
   "metadata": {
    "id": "a9d2fdf2-e951-4939-9ade-025bb4e91510"
   },
   "outputs": [],
   "source": [
    "model = Model('relu')"
   ]
  },
  {
   "cell_type": "code",
   "execution_count": null,
   "id": "52dc97a1-4f92-4b83-80b9-2599caba01d7",
   "metadata": {
    "colab": {
     "base_uri": "https://localhost:8080/"
    },
    "id": "52dc97a1-4f92-4b83-80b9-2599caba01d7",
    "outputId": "82184382-b768-4481-8c21-0cc0a6195d9b"
   },
   "outputs": [],
   "source": [
    "model(test_batch[0]).shape, test_batch[1].shape"
   ]
  },
  {
   "cell_type": "code",
   "execution_count": null,
   "id": "bfa35892-87d7-42e3-bf09-58b2d7bd0e12",
   "metadata": {
    "colab": {
     "base_uri": "https://localhost:8080/"
    },
    "id": "bfa35892-87d7-42e3-bf09-58b2d7bd0e12",
    "outputId": "a6cde76d-9581-4db5-9fbd-17112a9cb0ec"
   },
   "outputs": [],
   "source": [
    "model(test_batch[0])[:, 0].shape"
   ]
  },
  {
   "cell_type": "code",
   "execution_count": null,
   "id": "93a3654e-6a57-468f-a8e9-41dfee3b9ed4",
   "metadata": {
    "colab": {
     "base_uri": "https://localhost:8080/"
    },
    "id": "93a3654e-6a57-468f-a8e9-41dfee3b9ed4",
    "outputId": "421f9e57-0f5e-483d-ba63-88a2fdba54c0",
    "scrolled": true
   },
   "outputs": [],
   "source": [
    "model.compile(\n",
    "    loss=keras.losses.MeanSquaredError(),\n",
    "    optimizer=keras.optimizers.SGD(learning_rate=0.001),\n",
    "    metrics=[\"accuracy\"]\n",
    ")\n",
    "\n",
    "history = model.fit(\n",
    "    train_ds,\n",
    "    validation_data=val_ds,\n",
    "    epochs=5,\n",
    ")"
   ]
  },
  {
   "cell_type": "code",
   "execution_count": null,
   "id": "d6043f27-9d29-4b57-92c1-99f3b401bf45",
   "metadata": {
    "colab": {
     "base_uri": "https://localhost:8080/"
    },
    "id": "d6043f27-9d29-4b57-92c1-99f3b401bf45",
    "outputId": "8d84ed2b-dd9b-42c7-930d-457e10917a72"
   },
   "outputs": [],
   "source": [
    "history.history"
   ]
  },
  {
   "cell_type": "code",
   "execution_count": null,
   "id": "05539ec9-1700-4384-b14e-b016afb5139a",
   "metadata": {
    "colab": {
     "base_uri": "https://localhost:8080/",
     "height": 384
    },
    "id": "05539ec9-1700-4384-b14e-b016afb5139a",
    "outputId": "77370048-b855-4c21-88b1-feda70c353c9",
    "tags": []
   },
   "outputs": [],
   "source": [
    "# Crear figura con dos subplots\n",
    "fig, (ax1, ax2) = plt.subplots(1, 2, figsize=(10, 5))\n",
    "\n",
    "# Plot de accuracy en el primer subplot\n",
    "ax1.plot(history.history['accuracy'], 'bo-', label='Accuracy')\n",
    "ax1.plot(history.history['val_accuracy'], 'ro-', label='Validation Accuracy')\n",
    "ax1.set_title('Accuracy')\n",
    "ax1.set_xlabel('Época')\n",
    "ax1.set_ylabel('Accuracy')\n",
    "ax1.legend()\n",
    "\n",
    "# Plot de error en el segundo subplot\n",
    "ax2.plot(history.history['loss'], 'bo-', label='Loss')\n",
    "ax2.plot(history.history['val_loss'], 'ro-', label='Validation Loss')\n",
    "ax2.set_title('Error')\n",
    "ax2.set_xlabel('Época')\n",
    "ax2.set_ylabel('Error')\n",
    "ax2.legend()\n",
    "\n",
    "# Mostrar figura\n",
    "plt.show()"
   ]
  },
  {
   "cell_type": "markdown",
   "id": "2df6d6ef",
   "metadata": {},
   "source": [
    "### relu - 0.1"
   ]
  },
  {
   "cell_type": "code",
   "execution_count": null,
   "id": "db5bdb30",
   "metadata": {},
   "outputs": [],
   "source": [
    "layer = Linear(10, \"relu\")\n",
    "x = tf.ones([1,10000])\n",
    "out = layer(x)\n",
    "out.shape"
   ]
  },
  {
   "cell_type": "code",
   "execution_count": null,
   "id": "199cf927",
   "metadata": {},
   "outputs": [],
   "source": [
    "test_batch = next(iter(train_ds))\n",
    "test_batch[0]"
   ]
  },
  {
   "cell_type": "code",
   "execution_count": 79,
   "id": "0ff9cdcf",
   "metadata": {},
   "outputs": [],
   "source": [
    "model = Model('relu')"
   ]
  },
  {
   "cell_type": "code",
   "execution_count": null,
   "id": "c688d9ce",
   "metadata": {},
   "outputs": [],
   "source": [
    "model(test_batch[0]).shape, test_batch[1].shape"
   ]
  },
  {
   "cell_type": "code",
   "execution_count": null,
   "id": "727dbead",
   "metadata": {},
   "outputs": [],
   "source": [
    "model(test_batch[0])[:, 0].shape"
   ]
  },
  {
   "cell_type": "code",
   "execution_count": null,
   "id": "a93d5a9d",
   "metadata": {},
   "outputs": [],
   "source": [
    "model.compile(\n",
    "    loss=keras.losses.MeanSquaredError(),\n",
    "    optimizer=keras.optimizers.SGD(learning_rate=0.1),\n",
    "    metrics=[\"accuracy\"]\n",
    ")\n",
    "\n",
    "history = model.fit(\n",
    "    train_ds,\n",
    "    validation_data=val_ds,\n",
    "    epochs=5,\n",
    ")"
   ]
  },
  {
   "cell_type": "code",
   "execution_count": null,
   "id": "1a596dd6",
   "metadata": {},
   "outputs": [],
   "source": [
    "history.history"
   ]
  },
  {
   "cell_type": "code",
   "execution_count": null,
   "id": "ed49c72a",
   "metadata": {},
   "outputs": [],
   "source": [
    "# Crear figura con dos subplots\n",
    "fig, (ax1, ax2) = plt.subplots(1, 2, figsize=(10, 5))\n",
    "\n",
    "# Plot de accuracy en el primer subplot\n",
    "ax1.plot(history.history['accuracy'], 'bo-', label='Accuracy')\n",
    "ax1.plot(history.history['val_accuracy'], 'ro-', label='Validation Accuracy')\n",
    "ax1.set_title('Accuracy')\n",
    "ax1.set_xlabel('Época')\n",
    "ax1.set_ylabel('Accuracy')\n",
    "ax1.legend()\n",
    "\n",
    "# Plot de error en el segundo subplot\n",
    "ax2.plot(history.history['loss'], 'bo-', label='Loss')\n",
    "ax2.plot(history.history['val_loss'], 'ro-', label='Validation Loss')\n",
    "ax2.set_title('Error')\n",
    "ax2.set_xlabel('Época')\n",
    "ax2.set_ylabel('Error')\n",
    "ax2.legend()\n",
    "\n",
    "# Mostrar figura\n",
    "plt.show()"
   ]
  },
  {
   "cell_type": "markdown",
   "id": "d0d0384e",
   "metadata": {},
   "source": [
    "### tanh - 0.1"
   ]
  },
  {
   "cell_type": "code",
   "execution_count": null,
   "id": "51c30d7c",
   "metadata": {},
   "outputs": [],
   "source": [
    "layer = Linear(10, \"tanh\")\n",
    "x = tf.ones([1,10000])\n",
    "out = layer(x)\n",
    "out.shape"
   ]
  },
  {
   "cell_type": "code",
   "execution_count": null,
   "id": "066a1a5d",
   "metadata": {},
   "outputs": [],
   "source": [
    "test_batch = next(iter(train_ds))\n",
    "test_batch[0]"
   ]
  },
  {
   "cell_type": "code",
   "execution_count": 102,
   "id": "3b8d9248",
   "metadata": {},
   "outputs": [],
   "source": [
    "model = Model('tanh')"
   ]
  },
  {
   "cell_type": "code",
   "execution_count": null,
   "id": "0920ed30",
   "metadata": {},
   "outputs": [],
   "source": [
    "model(test_batch[0]).shape, test_batch[1].shape"
   ]
  },
  {
   "cell_type": "code",
   "execution_count": null,
   "id": "ac3df1d6",
   "metadata": {},
   "outputs": [],
   "source": [
    "model(test_batch[0])[:, 0].shape"
   ]
  },
  {
   "cell_type": "code",
   "execution_count": null,
   "id": "151dfb6e",
   "metadata": {},
   "outputs": [],
   "source": [
    "model.compile(\n",
    "    loss=keras.losses.MeanSquaredError(),\n",
    "    optimizer=keras.optimizers.SGD(learning_rate=0.1),\n",
    "    metrics=[\"accuracy\"]\n",
    ")\n",
    "\n",
    "history = model.fit(\n",
    "    train_ds,\n",
    "    validation_data=val_ds,\n",
    "    epochs=5,\n",
    ")"
   ]
  },
  {
   "cell_type": "code",
   "execution_count": null,
   "id": "920d3906",
   "metadata": {},
   "outputs": [],
   "source": [
    "history.history"
   ]
  },
  {
   "cell_type": "code",
   "execution_count": null,
   "id": "b3e9a41f",
   "metadata": {},
   "outputs": [],
   "source": [
    "# Crear figura con dos subplots\n",
    "fig, (ax1, ax2) = plt.subplots(1, 2, figsize=(10, 5))\n",
    "\n",
    "# Plot de accuracy en el primer subplot\n",
    "ax1.plot(history.history['accuracy'], 'bo-', label='Accuracy')\n",
    "ax1.plot(history.history['val_accuracy'], 'ro-', label='Validation Accuracy')\n",
    "ax1.set_title('Accuracy')\n",
    "ax1.set_xlabel('Época')\n",
    "ax1.set_ylabel('Accuracy')\n",
    "ax1.legend()\n",
    "\n",
    "# Plot de error en el segundo subplot\n",
    "ax2.plot(history.history['loss'], 'bo-', label='Loss')\n",
    "ax2.plot(history.history['val_loss'], 'ro-', label='Validation Loss')\n",
    "ax2.set_title('Error')\n",
    "ax2.set_xlabel('Época')\n",
    "ax2.set_ylabel('Error')\n",
    "ax2.legend()\n",
    "\n",
    "# Mostrar figura\n",
    "plt.show()"
   ]
  },
  {
   "cell_type": "markdown",
   "id": "023e2bfb",
   "metadata": {},
   "source": [
    "### tanh - 0.001"
   ]
  },
  {
   "cell_type": "code",
   "execution_count": null,
   "id": "1d4fe1b0",
   "metadata": {},
   "outputs": [],
   "source": [
    "layer = Linear(10, \"tanh\")\n",
    "x = tf.ones([1,10000])\n",
    "out = layer(x)\n",
    "out.shape"
   ]
  },
  {
   "cell_type": "code",
   "execution_count": null,
   "id": "aac287b6",
   "metadata": {},
   "outputs": [],
   "source": [
    "test_batch = next(iter(train_ds))\n",
    "test_batch[0]"
   ]
  },
  {
   "cell_type": "code",
   "execution_count": 110,
   "id": "8754560d",
   "metadata": {},
   "outputs": [],
   "source": [
    "model = Model('tanh')"
   ]
  },
  {
   "cell_type": "code",
   "execution_count": null,
   "id": "91c3b75d",
   "metadata": {},
   "outputs": [],
   "source": [
    "model(test_batch[0]).shape, test_batch[1].shape"
   ]
  },
  {
   "cell_type": "code",
   "execution_count": null,
   "id": "6cf7f325",
   "metadata": {},
   "outputs": [],
   "source": [
    "model(test_batch[0])[:, 0].shape"
   ]
  },
  {
   "cell_type": "code",
   "execution_count": null,
   "id": "5127ba59",
   "metadata": {},
   "outputs": [],
   "source": [
    "model.compile(\n",
    "    loss=keras.losses.MeanSquaredError(),\n",
    "    optimizer=keras.optimizers.SGD(learning_rate=0.001),\n",
    "    metrics=[\"accuracy\"]\n",
    ")\n",
    "\n",
    "history = model.fit(\n",
    "    train_ds,\n",
    "    validation_data=val_ds,\n",
    "    epochs=5,\n",
    ")"
   ]
  },
  {
   "cell_type": "code",
   "execution_count": null,
   "id": "9c4c79c1",
   "metadata": {},
   "outputs": [],
   "source": [
    "history.history"
   ]
  },
  {
   "cell_type": "code",
   "execution_count": null,
   "id": "a9860cb7",
   "metadata": {},
   "outputs": [],
   "source": [
    "# Crear figura con dos subplots\n",
    "fig, (ax1, ax2) = plt.subplots(1, 2, figsize=(10, 5))\n",
    "\n",
    "# Plot de accuracy en el primer subplot\n",
    "ax1.plot(history.history['accuracy'], 'bo-', label='Accuracy')\n",
    "ax1.plot(history.history['val_accuracy'], 'ro-', label='Validation Accuracy')\n",
    "ax1.set_title('Accuracy')\n",
    "ax1.set_xlabel('Época')\n",
    "ax1.set_ylabel('Accuracy')\n",
    "ax1.legend()\n",
    "\n",
    "# Plot de error en el segundo subplot\n",
    "ax2.plot(history.history['loss'], 'bo-', label='Loss')\n",
    "ax2.plot(history.history['val_loss'], 'ro-', label='Validation Loss')\n",
    "ax2.set_title('Error')\n",
    "ax2.set_xlabel('Época')\n",
    "ax2.set_ylabel('Error')\n",
    "ax2.legend()\n",
    "\n",
    "# Mostrar figura\n",
    "plt.show()"
   ]
  },
  {
   "cell_type": "markdown",
   "id": "d9597420",
   "metadata": {},
   "source": [
    "### sigmoid - 0.001"
   ]
  },
  {
   "cell_type": "code",
   "execution_count": null,
   "id": "a5b122fc",
   "metadata": {},
   "outputs": [],
   "source": [
    "layer = Linear(10, \"sigmoid\")\n",
    "x = tf.ones([1,10000])\n",
    "out = layer(x)\n",
    "out.shape"
   ]
  },
  {
   "cell_type": "code",
   "execution_count": null,
   "id": "21df7608",
   "metadata": {},
   "outputs": [],
   "source": [
    "test_batch = next(iter(train_ds))\n",
    "test_batch[0]"
   ]
  },
  {
   "cell_type": "code",
   "execution_count": 118,
   "id": "120652bd",
   "metadata": {},
   "outputs": [],
   "source": [
    "model = Model('sigmoid')"
   ]
  },
  {
   "cell_type": "code",
   "execution_count": null,
   "id": "f7e2e9fe",
   "metadata": {},
   "outputs": [],
   "source": [
    "model(test_batch[0]).shape, test_batch[1].shape"
   ]
  },
  {
   "cell_type": "code",
   "execution_count": null,
   "id": "b1873191",
   "metadata": {},
   "outputs": [],
   "source": [
    "model(test_batch[0])[:, 0].shape"
   ]
  },
  {
   "cell_type": "code",
   "execution_count": null,
   "id": "0395bce9",
   "metadata": {},
   "outputs": [],
   "source": [
    "model.compile(\n",
    "    loss=keras.losses.MeanSquaredError(),\n",
    "    optimizer=keras.optimizers.SGD(learning_rate=0.001),\n",
    "    metrics=[\"accuracy\"]\n",
    ")\n",
    "\n",
    "history = model.fit(\n",
    "    train_ds,\n",
    "    validation_data=val_ds,\n",
    "    epochs=5,\n",
    ")"
   ]
  },
  {
   "cell_type": "code",
   "execution_count": null,
   "id": "f686d977",
   "metadata": {},
   "outputs": [],
   "source": [
    "history.history"
   ]
  },
  {
   "cell_type": "code",
   "execution_count": null,
   "id": "c6a42023",
   "metadata": {},
   "outputs": [],
   "source": [
    "# Crear figura con dos subplots\n",
    "fig, (ax1, ax2) = plt.subplots(1, 2, figsize=(10, 5))\n",
    "\n",
    "# Plot de accuracy en el primer subplot\n",
    "ax1.plot(history.history['accuracy'], 'bo-', label='Accuracy')\n",
    "ax1.plot(history.history['val_accuracy'], 'ro-', label='Validation Accuracy')\n",
    "ax1.set_title('Accuracy')\n",
    "ax1.set_xlabel('Época')\n",
    "ax1.set_ylabel('Accuracy')\n",
    "ax1.legend()\n",
    "\n",
    "# Plot de error en el segundo subplot\n",
    "ax2.plot(history.history['loss'], 'bo-', label='Loss')\n",
    "ax2.plot(history.history['val_loss'], 'ro-', label='Validation Loss')\n",
    "ax2.set_title('Error')\n",
    "ax2.set_xlabel('Época')\n",
    "ax2.set_ylabel('Error')\n",
    "ax2.legend()\n",
    "\n",
    "# Mostrar figura\n",
    "plt.show()"
   ]
  },
  {
   "cell_type": "markdown",
   "id": "c9920233",
   "metadata": {},
   "source": [
    "### sigmoid - 0.1"
   ]
  },
  {
   "cell_type": "code",
   "execution_count": null,
   "id": "e3811557",
   "metadata": {},
   "outputs": [],
   "source": [
    "layer = Linear(10, \"sigmoid\")\n",
    "x = tf.ones([1,10000])\n",
    "out = layer(x)\n",
    "out.shape"
   ]
  },
  {
   "cell_type": "code",
   "execution_count": null,
   "id": "9157ae8c",
   "metadata": {},
   "outputs": [],
   "source": [
    "test_batch = next(iter(train_ds))\n",
    "test_batch[0]"
   ]
  },
  {
   "cell_type": "code",
   "execution_count": 127,
   "id": "e01b2864",
   "metadata": {},
   "outputs": [],
   "source": [
    "model = Model('sigmoid')"
   ]
  },
  {
   "cell_type": "code",
   "execution_count": null,
   "id": "ef12c19e",
   "metadata": {},
   "outputs": [],
   "source": [
    "model(test_batch[0]).shape, test_batch[1].shape"
   ]
  },
  {
   "cell_type": "code",
   "execution_count": null,
   "id": "158fc8be",
   "metadata": {},
   "outputs": [],
   "source": [
    "model(test_batch[0])[:, 0].shape"
   ]
  },
  {
   "cell_type": "code",
   "execution_count": null,
   "id": "c299841e",
   "metadata": {},
   "outputs": [],
   "source": [
    "model.compile(\n",
    "    loss=keras.losses.MeanSquaredError(),\n",
    "    optimizer=keras.optimizers.SGD(learning_rate=0.1),\n",
    "    metrics=[\"accuracy\"]\n",
    ")\n",
    "\n",
    "history = model.fit(\n",
    "    train_ds,\n",
    "    validation_data=val_ds,\n",
    "    epochs=5,\n",
    ")"
   ]
  },
  {
   "cell_type": "code",
   "execution_count": null,
   "id": "852518af",
   "metadata": {},
   "outputs": [],
   "source": [
    "history.history"
   ]
  },
  {
   "cell_type": "code",
   "execution_count": null,
   "id": "cb9a05b3",
   "metadata": {},
   "outputs": [],
   "source": [
    "# Crear figura con dos subplots\n",
    "fig, (ax1, ax2) = plt.subplots(1, 2, figsize=(10, 5))\n",
    "\n",
    "# Plot de accuracy en el primer subplot\n",
    "ax1.plot(history.history['accuracy'], 'bo-', label='Accuracy')\n",
    "ax1.plot(history.history['val_accuracy'], 'ro-', label='Validation Accuracy')\n",
    "ax1.set_title('Accuracy')\n",
    "ax1.set_xlabel('Época')\n",
    "ax1.set_ylabel('Accuracy')\n",
    "ax1.legend()\n",
    "\n",
    "# Plot de error en el segundo subplot\n",
    "ax2.plot(history.history['loss'], 'bo-', label='Loss')\n",
    "ax2.plot(history.history['val_loss'], 'ro-', label='Validation Loss')\n",
    "ax2.set_title('Error')\n",
    "ax2.set_xlabel('Época')\n",
    "ax2.set_ylabel('Error')\n",
    "ax2.legend()\n",
    "\n",
    "# Mostrar figura\n",
    "plt.show()"
   ]
  },
  {
   "cell_type": "markdown",
   "id": "29855155-31af-4ac4-b679-61f525d8d673",
   "metadata": {
    "id": "29855155-31af-4ac4-b679-61f525d8d673"
   },
   "source": [
    "## Conclusion\n",
    "\n",
    "Después del ajuste de parámetros en el modelo con sigmoide con 0.001, se observa que el valor de 0.001 se adapta bien, también tanh 0.001, esto quiere decir que con ambos modelos podemos llegar a tener métricas altas para el modelo, pero siempre se tiene que evitar el overfitting, debido a que estos modelos se acoplan bien a los datos de prueba pero lo + probable es que falle cuando entren nuevos datos,así que se debería tener + cuidado en eso. \n",
    "\n",
    "Se debería establecer mejor los parámetros con el fin que generalice mejor"
   ]
  }
 ],
 "metadata": {
  "accelerator": "GPU",
  "colab": {
   "gpuType": "T4",
   "provenance": []
  },
  "kernelspec": {
   "display_name": "Python 3 (ipykernel)",
   "language": "python",
   "name": "python3"
  },
  "language_info": {
   "codemirror_mode": {
    "name": "ipython",
    "version": 3
   },
   "file_extension": ".py",
   "mimetype": "text/x-python",
   "name": "python",
   "nbconvert_exporter": "python",
   "pygments_lexer": "ipython3",
   "version": "3.11.9"
  }
 },
 "nbformat": 4,
 "nbformat_minor": 5
}
