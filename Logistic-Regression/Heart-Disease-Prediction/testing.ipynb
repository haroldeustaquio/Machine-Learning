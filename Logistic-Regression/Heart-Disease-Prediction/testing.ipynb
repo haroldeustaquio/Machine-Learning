{
 "cells": [
  {
   "cell_type": "markdown",
   "metadata": {},
   "source": [
    "## 1. Importing Libraries\n"
   ]
  },
  {
   "cell_type": "code",
   "execution_count": 31,
   "metadata": {},
   "outputs": [],
   "source": [
    "import pandas as pd\n",
    "from sklearn.model_selection import train_test_split\n",
    "from sklearn.linear_model import LogisticRegression\n",
    "from sklearn.metrics import confusion_matrix,accuracy_score, recall_score,precision_score,f1_score,classification_report\n",
    "from sklearn.tree import DecisionTreeClassifier\n",
    "from sklearn.metrics import roc_curve, auc, confusion_matrix\n",
    "import matplotlib.pyplot as plt\n",
    "from sklearn.metrics import precision_recall_curve\n",
    "from sklearn.experimental import enable_iterative_imputer\n",
    "from sklearn.impute import IterativeImputer, KNNImputer, SimpleImputer"
   ]
  },
  {
   "cell_type": "markdown",
   "metadata": {},
   "source": [
    "## 2. Loading and Exploring the Data"
   ]
  },
  {
   "cell_type": "code",
   "execution_count": 32,
   "metadata": {},
   "outputs": [],
   "source": [
    "df = pd.read_csv('data/framingham.csv')"
   ]
  },
  {
   "cell_type": "code",
   "execution_count": 33,
   "metadata": {},
   "outputs": [
    {
     "data": {
      "text/html": [
       "<div>\n",
       "<style scoped>\n",
       "    .dataframe tbody tr th:only-of-type {\n",
       "        vertical-align: middle;\n",
       "    }\n",
       "\n",
       "    .dataframe tbody tr th {\n",
       "        vertical-align: top;\n",
       "    }\n",
       "\n",
       "    .dataframe thead th {\n",
       "        text-align: right;\n",
       "    }\n",
       "</style>\n",
       "<table border=\"1\" class=\"dataframe\">\n",
       "  <thead>\n",
       "    <tr style=\"text-align: right;\">\n",
       "      <th></th>\n",
       "      <th>male</th>\n",
       "      <th>age</th>\n",
       "      <th>education</th>\n",
       "      <th>currentSmoker</th>\n",
       "      <th>cigsPerDay</th>\n",
       "      <th>BPMeds</th>\n",
       "      <th>prevalentStroke</th>\n",
       "      <th>prevalentHyp</th>\n",
       "      <th>diabetes</th>\n",
       "      <th>totChol</th>\n",
       "      <th>sysBP</th>\n",
       "      <th>diaBP</th>\n",
       "      <th>BMI</th>\n",
       "      <th>heartRate</th>\n",
       "      <th>glucose</th>\n",
       "      <th>TenYearCHD</th>\n",
       "    </tr>\n",
       "  </thead>\n",
       "  <tbody>\n",
       "    <tr>\n",
       "      <th>0</th>\n",
       "      <td>1</td>\n",
       "      <td>39</td>\n",
       "      <td>4.0</td>\n",
       "      <td>0</td>\n",
       "      <td>0.0</td>\n",
       "      <td>0.0</td>\n",
       "      <td>0</td>\n",
       "      <td>0</td>\n",
       "      <td>0</td>\n",
       "      <td>195.0</td>\n",
       "      <td>106.0</td>\n",
       "      <td>70.0</td>\n",
       "      <td>26.97</td>\n",
       "      <td>80.0</td>\n",
       "      <td>77.0</td>\n",
       "      <td>0</td>\n",
       "    </tr>\n",
       "    <tr>\n",
       "      <th>1</th>\n",
       "      <td>0</td>\n",
       "      <td>46</td>\n",
       "      <td>2.0</td>\n",
       "      <td>0</td>\n",
       "      <td>0.0</td>\n",
       "      <td>0.0</td>\n",
       "      <td>0</td>\n",
       "      <td>0</td>\n",
       "      <td>0</td>\n",
       "      <td>250.0</td>\n",
       "      <td>121.0</td>\n",
       "      <td>81.0</td>\n",
       "      <td>28.73</td>\n",
       "      <td>95.0</td>\n",
       "      <td>76.0</td>\n",
       "      <td>0</td>\n",
       "    </tr>\n",
       "    <tr>\n",
       "      <th>2</th>\n",
       "      <td>1</td>\n",
       "      <td>48</td>\n",
       "      <td>1.0</td>\n",
       "      <td>1</td>\n",
       "      <td>20.0</td>\n",
       "      <td>0.0</td>\n",
       "      <td>0</td>\n",
       "      <td>0</td>\n",
       "      <td>0</td>\n",
       "      <td>245.0</td>\n",
       "      <td>127.5</td>\n",
       "      <td>80.0</td>\n",
       "      <td>25.34</td>\n",
       "      <td>75.0</td>\n",
       "      <td>70.0</td>\n",
       "      <td>0</td>\n",
       "    </tr>\n",
       "    <tr>\n",
       "      <th>3</th>\n",
       "      <td>0</td>\n",
       "      <td>61</td>\n",
       "      <td>3.0</td>\n",
       "      <td>1</td>\n",
       "      <td>30.0</td>\n",
       "      <td>0.0</td>\n",
       "      <td>0</td>\n",
       "      <td>1</td>\n",
       "      <td>0</td>\n",
       "      <td>225.0</td>\n",
       "      <td>150.0</td>\n",
       "      <td>95.0</td>\n",
       "      <td>28.58</td>\n",
       "      <td>65.0</td>\n",
       "      <td>103.0</td>\n",
       "      <td>1</td>\n",
       "    </tr>\n",
       "    <tr>\n",
       "      <th>4</th>\n",
       "      <td>0</td>\n",
       "      <td>46</td>\n",
       "      <td>3.0</td>\n",
       "      <td>1</td>\n",
       "      <td>23.0</td>\n",
       "      <td>0.0</td>\n",
       "      <td>0</td>\n",
       "      <td>0</td>\n",
       "      <td>0</td>\n",
       "      <td>285.0</td>\n",
       "      <td>130.0</td>\n",
       "      <td>84.0</td>\n",
       "      <td>23.10</td>\n",
       "      <td>85.0</td>\n",
       "      <td>85.0</td>\n",
       "      <td>0</td>\n",
       "    </tr>\n",
       "  </tbody>\n",
       "</table>\n",
       "</div>"
      ],
      "text/plain": [
       "   male  age  education  currentSmoker  cigsPerDay  BPMeds  prevalentStroke  \\\n",
       "0     1   39        4.0              0         0.0     0.0                0   \n",
       "1     0   46        2.0              0         0.0     0.0                0   \n",
       "2     1   48        1.0              1        20.0     0.0                0   \n",
       "3     0   61        3.0              1        30.0     0.0                0   \n",
       "4     0   46        3.0              1        23.0     0.0                0   \n",
       "\n",
       "   prevalentHyp  diabetes  totChol  sysBP  diaBP    BMI  heartRate  glucose  \\\n",
       "0             0         0    195.0  106.0   70.0  26.97       80.0     77.0   \n",
       "1             0         0    250.0  121.0   81.0  28.73       95.0     76.0   \n",
       "2             0         0    245.0  127.5   80.0  25.34       75.0     70.0   \n",
       "3             1         0    225.0  150.0   95.0  28.58       65.0    103.0   \n",
       "4             0         0    285.0  130.0   84.0  23.10       85.0     85.0   \n",
       "\n",
       "   TenYearCHD  \n",
       "0           0  \n",
       "1           0  \n",
       "2           0  \n",
       "3           1  \n",
       "4           0  "
      ]
     },
     "execution_count": 33,
     "metadata": {},
     "output_type": "execute_result"
    }
   ],
   "source": [
    "# df.info()\n",
    "df.head()"
   ]
  },
  {
   "cell_type": "code",
   "execution_count": 34,
   "metadata": {},
   "outputs": [
    {
     "data": {
      "text/plain": [
       "currentSmoker\n",
       "0    2144\n",
       "1    2094\n",
       "Name: count, dtype: int64"
      ]
     },
     "execution_count": 34,
     "metadata": {},
     "output_type": "execute_result"
    }
   ],
   "source": [
    "df['male'].value_counts()\n",
    "df['currentSmoker'].value_counts()"
   ]
  },
  {
   "cell_type": "markdown",
   "metadata": {},
   "source": [
    "## 3. Data Cleaning and Preparation"
   ]
  },
  {
   "cell_type": "code",
   "execution_count": 35,
   "metadata": {},
   "outputs": [],
   "source": [
    "df_simple = df.copy()\n",
    "df_knn = df.copy()\n",
    "df_iter = df.copy()"
   ]
  },
  {
   "cell_type": "code",
   "execution_count": 36,
   "metadata": {},
   "outputs": [],
   "source": [
    "columns_with_nan = [col for col in df.columns if df[col].isna().any()]"
   ]
  },
  {
   "cell_type": "code",
   "execution_count": 38,
   "metadata": {},
   "outputs": [],
   "source": [
    "simple_imputer = SimpleImputer(strategy='mean')\n",
    "\n",
    "df_simple.loc[:, columns_with_nan] = simple_imputer.fit_transform(df_simple[columns_with_nan].values)"
   ]
  },
  {
   "cell_type": "code",
   "execution_count": 57,
   "metadata": {},
   "outputs": [],
   "source": [
    "knn_imputer= KNNImputer(n_neighbors=5,metric='nan_euclidean',weights='distance')\n",
    "\n",
    "df_knn.loc[:, :] = knn_imputer.fit_transform(df_knn.values)"
   ]
  },
  {
   "cell_type": "markdown",
   "metadata": {},
   "source": [
    "## 4. Model Building and Training\n"
   ]
  },
  {
   "cell_type": "code",
   "execution_count": 49,
   "metadata": {},
   "outputs": [],
   "source": [
    "df.dropna(inplace=True)"
   ]
  },
  {
   "cell_type": "code",
   "execution_count": 50,
   "metadata": {},
   "outputs": [],
   "source": [
    "x_train, x_test, y_train, y_test = train_test_split(df.drop(columns='diabetes'),df['diabetes'],test_size=0.25,random_state=0)\n",
    "x_train_simple, x_test_simple, y_train_simple, y_test_simple = train_test_split(df_simple.drop(columns='diabetes'),df_simple['diabetes'],test_size=0.25,random_state=0)\n",
    "x_train_knn, x_test_knn, y_train_knn, y_test_knn = train_test_split(df_knn.drop(columns='diabetes'),df_knn['diabetes'],test_size=0.25,random_state=0)\n",
    "\n",
    "x_train_iter, x_test_iter, y_train_iter, y_test_iter = train_test_split(df_iter.drop(columns='diabetes'),df_iter['diabetes'],test_size=0.25,random_state=0)\n"
   ]
  },
  {
   "cell_type": "markdown",
   "metadata": {},
   "source": [
    "### Liblinear model - balanced"
   ]
  },
  {
   "cell_type": "code",
   "execution_count": 42,
   "metadata": {},
   "outputs": [],
   "source": [
    "model_1 = LogisticRegression(solver='liblinear',class_weight='balanced') # With newton-cg is the same result\n",
    "model_1.fit(x_train,y_train)\n",
    "predictions_1 = model_1.predict(x_test)\n",
    "\n",
    "# If I reduce the tol, the model adapt better to the train_data but it's overfitting, so tol per default is ok"
   ]
  },
  {
   "cell_type": "code",
   "execution_count": 54,
   "metadata": {},
   "outputs": [
    {
     "name": "stdout",
     "output_type": "stream",
     "text": [
      "              precision    recall  f1-score   support\n",
      "\n",
      "           0       0.99      0.93      0.96       896\n",
      "           1       0.16      0.67      0.26        18\n",
      "\n",
      "    accuracy                           0.93       914\n",
      "   macro avg       0.58      0.80      0.61       914\n",
      "weighted avg       0.98      0.93      0.95       914\n",
      "\n",
      "Confusion Matrix:\n",
      " [[834  62]\n",
      " [  6  12]]\n"
     ]
    }
   ],
   "source": [
    "print(classification_report(y_test,predictions_1))\n",
    "\n",
    "print('Confusion Matrix:\\n', confusion_matrix(y_test,predictions_1) )"
   ]
  },
  {
   "cell_type": "markdown",
   "metadata": {},
   "source": [
    "#### Using Simple Iterator"
   ]
  },
  {
   "cell_type": "code",
   "execution_count": 67,
   "metadata": {},
   "outputs": [],
   "source": [
    "model_1_simple = LogisticRegression(solver='liblinear',class_weight='balanced') # With newton-cg is the same result\n",
    "model_1_simple.fit(x_train_simple,y_train_simple)\n",
    "predictions_1_simple = model_1_simple.predict(x_test_simple)\n",
    "\n",
    "# If I reduce the tol, the model adapt better to the train_data but it's overfitting, so tol per default is ok"
   ]
  },
  {
   "cell_type": "code",
   "execution_count": 68,
   "metadata": {},
   "outputs": [
    {
     "name": "stdout",
     "output_type": "stream",
     "text": [
      "              precision    recall  f1-score   support\n",
      "\n",
      "           0       0.99      0.93      0.96      1030\n",
      "           1       0.22      0.70      0.34        30\n",
      "\n",
      "    accuracy                           0.92      1060\n",
      "   macro avg       0.61      0.81      0.65      1060\n",
      "weighted avg       0.97      0.92      0.94      1060\n",
      "\n",
      "Confusion Matrix:\n",
      " [[957  73]\n",
      " [  9  21]]\n"
     ]
    }
   ],
   "source": [
    "print(classification_report(y_test_simple,predictions_1_simple))\n",
    "\n",
    "print('Confusion Matrix:\\n', confusion_matrix(y_test_simple,predictions_1_simple) )"
   ]
  },
  {
   "cell_type": "markdown",
   "metadata": {},
   "source": [
    "#### Using KNN Iterator"
   ]
  },
  {
   "cell_type": "code",
   "execution_count": 69,
   "metadata": {},
   "outputs": [],
   "source": [
    "model_1_knn = LogisticRegression(solver='liblinear',class_weight='balanced') # With newton-cg is the same result\n",
    "model_1_knn.fit(x_train_knn,y_train_knn)\n",
    "predictions_1_knn = model_1_knn.predict(x_test_knn)"
   ]
  },
  {
   "cell_type": "code",
   "execution_count": 70,
   "metadata": {},
   "outputs": [
    {
     "name": "stdout",
     "output_type": "stream",
     "text": [
      "              precision    recall  f1-score   support\n",
      "\n",
      "           0       0.99      0.92      0.95      1030\n",
      "           1       0.20      0.70      0.31        30\n",
      "\n",
      "    accuracy                           0.91      1060\n",
      "   macro avg       0.60      0.81      0.63      1060\n",
      "weighted avg       0.97      0.91      0.93      1060\n",
      "\n",
      "Confusion Matrix:\n",
      " [[946  84]\n",
      " [  9  21]]\n"
     ]
    }
   ],
   "source": [
    "print(classification_report(y_test_knn,predictions_1_knn))\n",
    "\n",
    "print('Confusion Matrix:\\n', confusion_matrix(y_test_knn,predictions_1_knn) )"
   ]
  },
  {
   "cell_type": "markdown",
   "metadata": {},
   "source": [
    "#### Using Iterative Iterator"
   ]
  },
  {
   "cell_type": "code",
   "execution_count": null,
   "metadata": {},
   "outputs": [],
   "source": [
    "# model_1_simple = LogisticRegression(solver='liblinear',class_weight='balanced') # With newton-cg is the same result\n",
    "# model_1_simple.fit(x_train_simple,y_train_simple)\n",
    "# predictions_1_simple = model_1.predict(x_test_simple)\n",
    "\n",
    "# If I reduce the tol, the model adapt better to the train_data but it's overfitting, so tol per default is ok"
   ]
  },
  {
   "cell_type": "markdown",
   "metadata": {},
   "source": [
    "### Liblinear model"
   ]
  },
  {
   "cell_type": "code",
   "execution_count": 44,
   "metadata": {},
   "outputs": [],
   "source": [
    "model_2 = LogisticRegression(solver='liblinear') # With newton-cg is the same result\n",
    "model_2.fit(x_train,y_train)\n",
    "predictions_2 = model_2.predict(x_test)\n",
    "\n",
    "# If I reduce the tol, the model adapt better to the train_data but it's overfitting, so tol per default is ok"
   ]
  },
  {
   "cell_type": "code",
   "execution_count": 45,
   "metadata": {},
   "outputs": [
    {
     "name": "stdout",
     "output_type": "stream",
     "text": [
      "              precision    recall  f1-score   support\n",
      "\n",
      "           0       0.99      1.00      0.99       896\n",
      "           1       0.75      0.50      0.60        18\n",
      "\n",
      "    accuracy                           0.99       914\n",
      "   macro avg       0.87      0.75      0.80       914\n",
      "weighted avg       0.99      0.99      0.99       914\n",
      "\n",
      "Confusion Matrix:\n",
      " [[893   3]\n",
      " [  9   9]]\n"
     ]
    }
   ],
   "source": [
    "print(classification_report(y_test,predictions_2))\n",
    "\n",
    "print('Confusion Matrix:\\n', confusion_matrix(y_test,predictions_2))"
   ]
  },
  {
   "cell_type": "markdown",
   "metadata": {},
   "source": [
    "#### Using Simple Iterator"
   ]
  },
  {
   "cell_type": "code",
   "execution_count": 71,
   "metadata": {},
   "outputs": [],
   "source": [
    "model_2_simple = LogisticRegression(solver='liblinear') # With newton-cg is the same result\n",
    "model_2_simple.fit(x_train_simple,y_train_simple)\n",
    "predictions_2_simple = model_2_simple.predict(x_test_simple)\n",
    "\n",
    "# If I reduce the tol, the model adapt better to the train_data but it's overfitting, so tol per default is ok"
   ]
  },
  {
   "cell_type": "code",
   "execution_count": 72,
   "metadata": {},
   "outputs": [
    {
     "name": "stdout",
     "output_type": "stream",
     "text": [
      "              precision    recall  f1-score   support\n",
      "\n",
      "           0       0.98      1.00      0.99      1030\n",
      "           1       0.82      0.47      0.60        30\n",
      "\n",
      "    accuracy                           0.98      1060\n",
      "   macro avg       0.90      0.73      0.79      1060\n",
      "weighted avg       0.98      0.98      0.98      1060\n",
      "\n",
      "Confusion Matrix:\n",
      " [[1027    3]\n",
      " [  16   14]]\n"
     ]
    }
   ],
   "source": [
    "print(classification_report(y_test_simple,predictions_2_simple))\n",
    "\n",
    "print('Confusion Matrix:\\n', confusion_matrix(y_test_simple,predictions_2_simple) )"
   ]
  },
  {
   "cell_type": "markdown",
   "metadata": {},
   "source": [
    "#### Using KNN Iterator"
   ]
  },
  {
   "cell_type": "code",
   "execution_count": 73,
   "metadata": {},
   "outputs": [],
   "source": [
    "model_2_knn = LogisticRegression(solver='liblinear') # With newton-cg is the same result\n",
    "model_2_knn.fit(x_train_knn,y_train_knn)\n",
    "predictions_2_knn = model_2_knn.predict(x_test_knn)"
   ]
  },
  {
   "cell_type": "code",
   "execution_count": 74,
   "metadata": {},
   "outputs": [
    {
     "name": "stdout",
     "output_type": "stream",
     "text": [
      "              precision    recall  f1-score   support\n",
      "\n",
      "           0       0.98      1.00      0.99      1030\n",
      "           1       0.82      0.47      0.60        30\n",
      "\n",
      "    accuracy                           0.98      1060\n",
      "   macro avg       0.90      0.73      0.79      1060\n",
      "weighted avg       0.98      0.98      0.98      1060\n",
      "\n",
      "Confusion Matrix:\n",
      " [[1027    3]\n",
      " [  16   14]]\n"
     ]
    }
   ],
   "source": [
    "print(classification_report(y_test_knn,predictions_2_knn))\n",
    "\n",
    "print('Confusion Matrix:\\n', confusion_matrix(y_test_knn,predictions_2_knn) )"
   ]
  },
  {
   "cell_type": "markdown",
   "metadata": {},
   "source": [
    "## 5. Model Evaluation"
   ]
  },
  {
   "cell_type": "markdown",
   "metadata": {},
   "source": [
    "### ROC Curve"
   ]
  },
  {
   "cell_type": "code",
   "execution_count": 81,
   "metadata": {},
   "outputs": [
    {
     "data": {
      "image/png": "[encoded data removed]",
      "text/plain": [
       "<Figure size 640x480 with 1 Axes>"
      ]
     },
     "metadata": {},
     "output_type": "display_data"
    }
   ],
   "source": [
    "fpr_0, tpr_0, _ = roc_curve(y_test,model_1.predict_proba(x_test)[:, 1])\n",
    "fpr_simple, tpr_simple, _ = roc_curve(y_test_simple,model_1_simple.predict_proba(x_test_simple)[:, 1])\n",
    "fpr_knn, tpr_knn, _ = roc_curve(y_test_knn,model_1_knn.predict_proba(x_test_knn)[:, 1])\n",
    "\n",
    "fpr_1, tpr_1, _ = roc_curve(y_test,model_2.predict_proba(x_test)[:, 1])\n",
    "fpr_1_simple, tpr_1_simple, _ = roc_curve(y_test_simple,model_2_simple.predict_proba(x_test_simple)[:, 1])\n",
    "fpr_1_knn, tpr_1_knn, _ = roc_curve(y_test_knn,model_2_knn.predict_proba(x_test_knn)[:, 1])\n",
    "\n",
    "\n",
    "area_1 = auc(fpr_0, tpr_0)\n",
    "area_1_simple = auc(fpr_simple,tpr_simple)\n",
    "area_1_knn = auc(fpr_knn,tpr_knn)\n",
    "\n",
    "area_2 = auc(fpr_1,tpr_1)\n",
    "area_2 = auc(fpr_1_simple,tpr_1_simple)\n",
    "area_2 = auc(fpr_1_knn,tpr_1_knn)\n",
    "\n",
    "\n",
    "plt.figure()\n",
    "plt.plot(fpr_0, tpr_0,color='red',label=f'{model_1.__class__.__name__} - balanced- without: {area_1:.2f}')\n",
    "plt.plot(fpr_simple,tpr_simple,color='yellow',label=f'{model_1_simple.__class__.__name__} - balanced - simple: {area_1_simple:.2f}')\n",
    "plt.plot(fpr_knn,tpr_knn,color='gray',label=f'{model_1_knn.__class__.__name__} - balanced - knn: {area_1_knn:.2f}')\n",
    "\n",
    "plt.plot(fpr_1,tpr_1,color='black',label=f'{model_2.__class__.__name__}: {area_2:.2f}')\n",
    "plt.plot(fpr_1_simple,tpr_1_simple,color='green',label=f'{model_2_simple.__class__.__name__} - simple: {area_2:.2f}')\n",
    "plt.plot(fpr_1_knn,tpr_1_knn,color='pink',label=f'{model_2_knn.__class__.__name__} - knn: {area_2:.2f}')\n",
    "\n",
    "\n",
    "plt.plot([0, 1], [0, 1], color='blue', linestyle='--')\n",
    "plt.xlabel('false positive rate')\n",
    "plt.ylabel('true positive rate')\n",
    "plt.title('roc_curve')\n",
    "plt.legend()\n",
    "plt.show()\n"
   ]
  },
  {
   "cell_type": "markdown",
   "metadata": {},
   "source": [
    "### Precision-Recall Curve"
   ]
  },
  {
   "cell_type": "code",
   "execution_count": 47,
   "metadata": {},
   "outputs": [
    {
     "data": {
      "image/png": "[encoded data removed]",
      "text/plain": [
       "<Figure size 800x600 with 1 Axes>"
      ]
     },
     "metadata": {},
     "output_type": "display_data"
    }
   ],
   "source": [
    "y_scores_model_1 = model_1.predict_proba(x_test)[:, 1]\n",
    "y_scores_model_2 = model_2.predict_proba(x_test)[:, 1]\n",
    "\n",
    "prec_model, recall_model, _ = precision_recall_curve(y_test, y_scores_model_1)\n",
    "prec_model_2, recall_model_2, _ = precision_recall_curve(y_test, y_scores_model_2)\n",
    "\n",
    "auc_model = auc(recall_model, prec_model)\n",
    "auc_model_2 = auc(recall_model_2, prec_model_2)\n",
    "\n",
    "plt.figure(figsize=(8, 6))\n",
    "plt.plot(recall_model, prec_model,label=f'{model_1.__class__.__name__}-balanced: {auc_model:.2f}')\n",
    "plt.plot(recall_model_2, prec_model_2,label=f'{model_2.__class__.__name__}: {auc_model_2:.2f}')\n",
    "plt.xlabel('Recall')\n",
    "plt.legend()\n",
    "plt.grid(True)\n",
    "plt.show()"
   ]
  }
 ],
 "metadata": {
  "kernelspec": {
   "display_name": ".venv",
   "language": "python",
   "name": "python3"
  },
  "language_info": {
   "codemirror_mode": {
    "name": "ipython",
    "version": 3
   },
   "file_extension": ".py",
   "mimetype": "text/x-python",
   "name": "python",
   "nbconvert_exporter": "python",
   "pygments_lexer": "ipython3",
   "version": "3.11.9"
  }
 },
 "nbformat": 4,
 "nbformat_minor": 2
}
