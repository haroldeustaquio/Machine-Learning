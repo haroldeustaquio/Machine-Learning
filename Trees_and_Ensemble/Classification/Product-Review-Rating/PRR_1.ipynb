{
 "cells": [
  {
   "cell_type": "markdown",
   "metadata": {},
   "source": [
    "#### 1. Importing the libraries"
   ]
  },
  {
   "cell_type": "code",
   "execution_count": null,
   "metadata": {},
   "outputs": [],
   "source": [
    "from sklearn.feature_extraction.text import CountVectorizer, HashingVectorizer, TfidfTransformer, TfidfVectorizer\n",
    "from sklearn.tree import DecisionTreeClassifier, plot_tree\n",
    "from sklearn.model_selection import train_test_split\n",
    "from sklearn.metrics import f1_score, recall_score, accuracy_score, precision_score,confusion_matrix\n",
    "import pandas as pd\n",
    "import numpy as np"
   ]
  },
  {
   "cell_type": "markdown",
   "metadata": {},
   "source": [
    "#### 2. Load [data](https://www.kaggle.com/datasets/arhamrumi/amazon-product-reviews/code) from kaggle"
   ]
  },
  {
   "cell_type": "code",
   "execution_count": null,
   "metadata": {},
   "outputs": [],
   "source": [
    "data = pd.read_csv('Reviews.csv')[:2000]"
   ]
  },
  {
   "cell_type": "markdown",
   "metadata": {},
   "source": [
    "#### Splitting data"
   ]
  },
  {
   "cell_type": "code",
   "execution_count": null,
   "metadata": {},
   "outputs": [],
   "source": [
    "# Selecting an specific data\n",
    "data_sa_text = data.loc[:,['Text', 'Score']]\n",
    "\n",
    "x_train, x_test, y_train,y_test = train_test_split(data_sa_text['Text'],data_sa_text['Score'],test_size=0.25) # stratify=data_sa_text['Score']"
   ]
  },
  {
   "cell_type": "code",
   "execution_count": null,
   "metadata": {},
   "outputs": [],
   "source": [
    "data['Score'].value_counts()"
   ]
  },
  {
   "cell_type": "markdown",
   "metadata": {},
   "source": [
    "#### Sentimental Analysis"
   ]
  },
  {
   "cell_type": "markdown",
   "metadata": {},
   "source": [
    "##### Entropy | class_weight='balanced'"
   ]
  },
  {
   "cell_type": "code",
   "execution_count": null,
   "metadata": {},
   "outputs": [],
   "source": [
    "# Creating CountVectorizer\n",
    "vectorizer = CountVectorizer(strip_accents='ascii',stop_words='english')\n",
    "\n",
    "# Training CountVectorizer model and transformr x_test\n",
    "x_train_vectorized = vectorizer.fit_transform(x_train)\n",
    "x_test_vectorized = vectorizer.transform(x_test)\n",
    "\n",
    "# Creating Tree Classifier\n",
    "dtc = DecisionTreeClassifier(criterion='entropy',splitter='random',class_weight='balanced',random_state=42)\n",
    "\n",
    "# Training the Tree Classifier\n",
    "dtc.fit(x_train_vectorized,y_train)\n",
    "\n",
    "# Predict for x_test_vectorized\n",
    "y_test_predict = dtc.predict(x_test_vectorized)\n",
    "\n",
    "# Check the score of the model\n",
    "print(dtc.score(x_test_vectorized,y_test))\n",
    "confusion_matrix(y_test,y_test_predict)"
   ]
  },
  {
   "cell_type": "code",
   "execution_count": null,
   "metadata": {},
   "outputs": [],
   "source": [
    "# vectorizer = CountVectorizer(strip_accents='ascii',stop_words='english',ngram_range=(2,3),min_df=5)\n",
    "tfidf_vectorizer = TfidfVectorizer(stop_words='english',strip_accents='ascii',ngram_range=(2,2))\n",
    "\n",
    "# Training CountVectorizer model and transformr x_test\n",
    "x_train_vectorized = tfidf_vectorizer.fit_transform(x_train)\n",
    "x_test_vectorized = tfidf_vectorizer.transform(x_test)\n",
    "\n",
    "# Creating Tree Classifier\n",
    "dtc = DecisionTreeClassifier(criterion='gini',splitter='best',random_state=42,class_weight='balanced')\n",
    "\n",
    "# Training the Tree Classifier\n",
    "dtc.fit(x_train_vectorized,y_train)\n",
    "\n",
    "# Predict for x_test_vectorized\n",
    "y_test_predict = dtc.predict(x_test_vectorized)\n",
    "\n",
    "\n",
    "# Check the score of the model\n",
    "print(dtc.score(x_test_vectorized,y_test))\n",
    "confusion_matrix(y_test,y_test_predict)"
   ]
  },
  {
   "cell_type": "code",
   "execution_count": null,
   "metadata": {},
   "outputs": [],
   "source": [
    "plot_tree(dtc)"
   ]
  },
  {
   "cell_type": "code",
   "execution_count": null,
   "metadata": {},
   "outputs": [],
   "source": [
    "# vectorizer = CountVectorizer(strip_accents='ascii',stop_words='english',ngram_range=(2,3),min_df=5)\n",
    "tfidf_vectorizer = TfidfVectorizer(stop_words='english',strip_accents='ascii',ngram_range=(2,3))\n",
    "\n",
    "# Training CountVectorizer model and transformr x_test\n",
    "x_train_vectorized = tfidf_vectorizer.fit_transform(x_train)\n",
    "x_test_vectorized = tfidf_vectorizer.transform(x_test)\n",
    "\n",
    "# Creating Tree Classifier\n",
    "dtc = DecisionTreeClassifier(criterion='gini',splitter='best',random_state=42,class_weight='balanced')\n",
    "\n",
    "# Training the Tree Classifier\n",
    "dtc.fit(x_train_vectorized,y_train)\n",
    "\n",
    "# Predict for x_test_vectorized\n",
    "y_test_predict = dtc.predict(x_test_vectorized)\n",
    "\n",
    "\n",
    "# Check the score of the model\n",
    "print(dtc.score(x_test_vectorized,y_test))\n",
    "confusion_matrix(y_test,y_test_predict)"
   ]
  },
  {
   "cell_type": "code",
   "execution_count": null,
   "metadata": {},
   "outputs": [],
   "source": [
    "plot_tree(dtc)"
   ]
  },
  {
   "cell_type": "code",
   "execution_count": null,
   "metadata": {},
   "outputs": [],
   "source": []
  },
  {
   "cell_type": "markdown",
   "metadata": {},
   "source": [
    "#### SVM"
   ]
  },
  {
   "cell_type": "code",
   "execution_count": null,
   "metadata": {},
   "outputs": [],
   "source": [
    "from sklearn.svm import SVC"
   ]
  },
  {
   "cell_type": "code",
   "execution_count": null,
   "metadata": {},
   "outputs": [],
   "source": [
    "# Selecting an specific data\n",
    "data_sa_text = data.loc[:,['Text', 'Score']]\n",
    "\n",
    "x_train, x_test, y_train,y_test = train_test_split(data_sa_text['Text'],data_sa_text['Score'],test_size=0.25) # stratify=data_sa_text['Score']bb"
   ]
  },
  {
   "cell_type": "code",
   "execution_count": null,
   "metadata": {},
   "outputs": [],
   "source": [
    "from sklearn.feature_extraction.text import CountVectorizer, TfidfVectorizer\n",
    "\n",
    "vecto = CountVectorizer(stop_words='english',strip_accents='ascii')\n",
    "\n",
    "x_train_vecto_svm = vecto.fit_transform(x_train)\n",
    "\n",
    "x_test_vecto_svm = vecto.transform(x_test)"
   ]
  },
  {
   "cell_type": "code",
   "execution_count": null,
   "metadata": {},
   "outputs": [],
   "source": [
    "svm = SVC(kernel='rbf')\n",
    "\n",
    "svm.fit(x_train_vecto_svm,y_train)"
   ]
  },
  {
   "cell_type": "code",
   "execution_count": null,
   "metadata": {},
   "outputs": [],
   "source": [
    "y_predict = svm.predict(x_test_vecto_svm)"
   ]
  },
  {
   "cell_type": "code",
   "execution_count": null,
   "metadata": {},
   "outputs": [],
   "source": [
    "svm.score(x_test_vecto_svm,y_test)\n",
    "confusion_matrix(y_test,y_test_predict)"
   ]
  },
  {
   "cell_type": "code",
   "execution_count": null,
   "metadata": {},
   "outputs": [],
   "source": []
  },
  {
   "cell_type": "code",
   "execution_count": null,
   "metadata": {},
   "outputs": [],
   "source": [
    "tdif_vecto = TfidfVectorizer(stop_words='english')\n",
    "x_tdif_vecto = tdif_vecto.fit_transform(x_train)"
   ]
  },
  {
   "cell_type": "code",
   "execution_count": null,
   "metadata": {},
   "outputs": [],
   "source": [
    "np.max(x_tdif_vecto)"
   ]
  },
  {
   "cell_type": "code",
   "execution_count": null,
   "metadata": {},
   "outputs": [],
   "source": [
    "x_tdif_vecto[0].toarray().flatten()"
   ]
  },
  {
   "cell_type": "code",
   "execution_count": null,
   "metadata": {},
   "outputs": [],
   "source": [
    "features = tdif_vecto.get_feature_names_out()\n"
   ]
  },
  {
   "cell_type": "code",
   "execution_count": null,
   "metadata": {},
   "outputs": [],
   "source": [
    "dict_tfidf= zip(features,x_tdif_vecto[0].toarray().flatten())"
   ]
  },
  {
   "cell_type": "code",
   "execution_count": null,
   "metadata": {},
   "outputs": [],
   "source": [
    "tdif_vecto.get_feature_names_out()\n",
    "\n",
    "# Obtener las 10 palabras más importantes de cada documento\n",
    "for i, doc in enumerate(x_train[:10]):\n",
    "    print(f\"Documento {i+1}:\")\n",
    "    \n",
    "    # Convertir la fila en un array de (palabra, tfidf) tuplas\n",
    "    tfidf_scores = zip(features, tfidf_matrix[i].toarray().flatten())\n",
    "    \n",
    "    # Ordenar las palabras por TF-IDF y tomar las 10 más importantes\n",
    "    top_words = sorted(tfidf_scores, key=lambda x: x[1], reverse=True)[:10]                                                                                                                                   \n",
    "    for word, score in top_words:\n",
    "        print(f\"{word}: {score:.4f}\")\n",
    "    print()"
   ]
  },
  {
   "cell_type": "code",
   "execution_count": null,
   "metadata": {},
   "outputs": [],
   "source": [
    "x_train[:10]"
   ]
  }
 ],
 "metadata": {
  "kernelspec": {
   "display_name": "Training",
   "language": "python",
   "name": "python3"
  },
  "language_info": {
   "codemirror_mode": {
    "name": "ipython",
    "version": 3
   },
   "file_extension": ".py",
   "mimetype": "text/x-python",
   "name": "python",
   "nbconvert_exporter": "python",
   "pygments_lexer": "ipython3",
   "version": "3.11.9"
  }
 },
 "nbformat": 4,
 "nbformat_minor": 2
}
