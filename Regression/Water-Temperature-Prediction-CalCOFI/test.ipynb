{
 "cells": [
  {
   "cell_type": "markdown",
   "metadata": {},
   "source": [
    "#### 1. Importing Libraries\n"
   ]
  },
  {
   "cell_type": "code",
   "execution_count": 127,
   "metadata": {},
   "outputs": [],
   "source": [
    "import pandas as pd\n",
    "from sklearn.linear_model import LinearRegression, Lasso\n",
    "from sklearn.model_selection import train_test_split\n",
    "\n",
    "from sklearn.metrics import r2_score, root_mean_squared_error, mean_absolute_error"
   ]
  },
  {
   "cell_type": "markdown",
   "metadata": {},
   "source": [
    "#### 2. Loading and Exploring the Data"
   ]
  },
  {
   "cell_type": "code",
   "execution_count": 128,
   "metadata": {},
   "outputs": [],
   "source": [
    "bottle = pd.read_csv('data/bottle.csv', low_memory=False)"
   ]
  },
  {
   "cell_type": "code",
   "execution_count": 135,
   "metadata": {},
   "outputs": [
    {
     "data": {
      "text/plain": [
       "43243.15"
      ]
     },
     "execution_count": 135,
     "metadata": {},
     "output_type": "execute_result"
    }
   ],
   "source": [
    "0.05*len(bottle)"
   ]
  },
  {
   "cell_type": "markdown",
   "metadata": {},
   "source": [
    "#### 3. Data Cleaning and Preparation"
   ]
  },
  {
   "cell_type": "markdown",
   "metadata": {},
   "source": [
    "##### Dropping data"
   ]
  },
  {
   "cell_type": "code",
   "execution_count": 137,
   "metadata": {},
   "outputs": [],
   "source": [
    "# Selecting columns with 95% with NaN values\n",
    "columns_to_drop = [col for col in bottle.columns if bottle[col].isna().sum() >= 0.05*len(bottle)]\n",
    "# Dropp this columns\n",
    "bottle.drop(columns=columns_to_drop,inplace=True)\n",
    "\n",
    "# Extract the columns that are int but dont matter in the model\n",
    "bottle.select_dtypes('int') # Cst_Cnt y Btl_Cnt\n",
    "bottle.drop(columns = ['Cst_Cnt','Btl_Cnt'],inplace=True)\n",
    "\n",
    "\n",
    "columns_to_drop_2 = bottle.select_dtypes('object').columns # Also don't matter this cols\n",
    "bottle.drop(columns=columns_to_drop_2,inplace=True)\n",
    "bottle.dropna(inplace=True)"
   ]
  },
  {
   "cell_type": "markdown",
   "metadata": {},
   "source": [
    "#### 5. Model Building and Training\n"
   ]
  },
  {
   "cell_type": "code",
   "execution_count": 160,
   "metadata": {},
   "outputs": [],
   "source": [
    "x_train, x_test, y_train, y_test = train_test_split(bottle.drop(columns='T_degC').values, bottle['T_degC'],test_size=0.25)"
   ]
  },
  {
   "cell_type": "markdown",
   "metadata": {},
   "source": [
    "#### 6. Model Evaluation"
   ]
  },
  {
   "cell_type": "code",
   "execution_count": 171,
   "metadata": {},
   "outputs": [],
   "source": [
    "info = []\n",
    "def save_metrics(model, y_test,predictions):\n",
    "    r2 = r2_score(y_test,predictions)\n",
    "    rmse = root_mean_squared_error(y_test,predictions)\n",
    "    mae = mean_absolute_error(y_test,predictions)\n",
    "\n",
    "    info.append([model,r2,rmse,mae])"
   ]
  },
  {
   "cell_type": "code",
   "execution_count": 172,
   "metadata": {},
   "outputs": [],
   "source": [
    "linear_models = [LinearRegression, Lasso]\n",
    "\n",
    "for temp in linear_models:\n",
    "    \n",
    "    model_temp = temp()  # Instanciar el modelo\n",
    "    model_temp.fit(x_train, y_train)  # Ajustar el modelo con los datos de entrenamiento\n",
    "\n",
    "    predictions = model_temp.predict(x_test)  # Hacer predicciones sobre los datos de prueba\n",
    "\n",
    "    # Guardar métricas con el nombre del modelo\n",
    "    save_metrics(f'{temp.__name__}', y_test, predictions)"
   ]
  },
  {
   "cell_type": "code",
   "execution_count": 174,
   "metadata": {},
   "outputs": [],
   "source": [
    "df_metrics = pd.DataFrame(info, columns=['model','r2','rmse','mae'])"
   ]
  },
  {
   "cell_type": "code",
   "execution_count": 175,
   "metadata": {},
   "outputs": [
    {
     "data": {
      "text/html": [
       "<div>\n",
       "<style scoped>\n",
       "    .dataframe tbody tr th:only-of-type {\n",
       "        vertical-align: middle;\n",
       "    }\n",
       "\n",
       "    .dataframe tbody tr th {\n",
       "        vertical-align: top;\n",
       "    }\n",
       "\n",
       "    .dataframe thead th {\n",
       "        text-align: right;\n",
       "    }\n",
       "</style>\n",
       "<table border=\"1\" class=\"dataframe\">\n",
       "  <thead>\n",
       "    <tr style=\"text-align: right;\">\n",
       "      <th></th>\n",
       "      <th>model</th>\n",
       "      <th>r2</th>\n",
       "      <th>rmse</th>\n",
       "      <th>mae</th>\n",
       "    </tr>\n",
       "  </thead>\n",
       "  <tbody>\n",
       "    <tr>\n",
       "      <th>0</th>\n",
       "      <td>LinearRegression</td>\n",
       "      <td>1.000000</td>\n",
       "      <td>0.000556</td>\n",
       "      <td>0.000109</td>\n",
       "    </tr>\n",
       "    <tr>\n",
       "      <th>1</th>\n",
       "      <td>Lasso</td>\n",
       "      <td>0.994442</td>\n",
       "      <td>0.315323</td>\n",
       "      <td>0.244392</td>\n",
       "    </tr>\n",
       "  </tbody>\n",
       "</table>\n",
       "</div>"
      ],
      "text/plain": [
       "              model        r2      rmse       mae\n",
       "0  LinearRegression  1.000000  0.000556  0.000109\n",
       "1             Lasso  0.994442  0.315323  0.244392"
      ]
     },
     "execution_count": 175,
     "metadata": {},
     "output_type": "execute_result"
    }
   ],
   "source": [
    "df_metrics"
   ]
  }
 ],
 "metadata": {
  "kernelspec": {
   "display_name": "DMC",
   "language": "python",
   "name": "python3"
  },
  "language_info": {
   "codemirror_mode": {
    "name": "ipython",
    "version": 3
   },
   "file_extension": ".py",
   "mimetype": "text/x-python",
   "name": "python",
   "nbconvert_exporter": "python",
   "pygments_lexer": "ipython3",
   "version": "3.11.9"
  }
 },
 "nbformat": 4,
 "nbformat_minor": 2
}
